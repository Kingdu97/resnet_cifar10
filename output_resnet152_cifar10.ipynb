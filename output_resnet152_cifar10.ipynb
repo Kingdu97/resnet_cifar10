====== 1 epoch of 150 ======

====== 100 Step of 196 ======
Train Acc : 0.1007503094059406
Train Loss : 0.013950495049357414

Valid Acc : 0.1394
Valid Loss : 0.06339927017688751
Model Saved!
====== 2 epoch of 150 ======

====== 100 Step of 196 ======
Train Acc : 0.17589727722772278
Train Loss : 0.008138124831020832

Valid Acc : 0.2154
Valid Loss : 0.041041623800992966
Model Saved!
====== 3 epoch of 150 ======

====== 100 Step of 196 ======
Train Acc : 0.21472772277227722
Train Loss : 0.009700445458292961

Valid Acc : 0.2338
Valid Loss : 0.020843911916017532
Model Saved!
====== 4 epoch of 150 ======

====== 100 Step of 196 ======
Train Acc : 0.2301980198019802
Train Loss : 0.0074502043426036835

Valid Acc : 0.2573
Valid Loss : 0.013466903008520603
Model Saved!
====== 5 epoch of 150 ======

====== 100 Step of 196 ======
Train Acc : 0.24013768564356436
Train Loss : 0.007946314290165901

Valid Acc : 0.2644
Valid Loss : 0.010886390693485737
Model Saved!
====== 6 epoch of 150 ======

====== 100 Step of 196 ======
Train Acc : 0.24748607673267325
Train Loss : 0.007759189233183861

Valid Acc : 0.263
Valid Loss : 0.008336245082318783
====== 7 epoch of 150 ======

====== 100 Step of 196 ======
Train Acc : 0.25661355198019803
Train Loss : 0.007676483131945133

Valid Acc : 0.2817
Valid Loss : 0.008119799196720123
Model Saved!
====== 8 epoch of 150 ======

====== 100 Step of 196 ======
Train Acc : 0.2645034034653465
Train Loss : 0.007471186108887196

Valid Acc : 0.2385
Valid Loss : 0.010340653359889984
====== 9 epoch of 150 ======

====== 100 Step of 196 ======
Train Acc : 0.2643487004950495
Train Loss : 0.007582942023873329

Valid Acc : 0.2699
Valid Loss : 0.008042598143219948
====== 10 epoch of 150 ======

====== 100 Step of 196 ======
Train Acc : 0.286509900990099
Train Loss : 0.007405001204460859

Valid Acc : 0.3215
Valid Loss : 0.00848050694912672
Model Saved!
====== 11 epoch of 150 ======

====== 100 Step of 196 ======
Train Acc : 0.3091352103960396
Train Loss : 0.007035105023533106

Valid Acc : 0.3331
Valid Loss : 0.007679677568376064
Model Saved!
====== 12 epoch of 150 ======

====== 100 Step of 196 ======
Train Acc : 0.31338954207920794
Train Loss : 0.006640177685767412

Valid Acc : 0.34
Valid Loss : 0.007222393061965704
Model Saved!
====== 13 epoch of 150 ======

====== 100 Step of 196 ======
Train Acc : 0.324064047029703
Train Loss : 0.006688576191663742

Valid Acc : 0.3505
Valid Loss : 0.007354218978434801
Model Saved!
====== 14 epoch of 150 ======

====== 100 Step of 196 ======
Train Acc : 0.3376005569306931
Train Loss : 0.006498788949102163

Valid Acc : 0.3473
Valid Loss : 0.006984804291278124
====== 15 epoch of 150 ======

====== 100 Step of 196 ======
Train Acc : 0.3416615099009901
Train Loss : 0.00694439560174942

Valid Acc : 0.3598
Valid Loss : 0.006870878394693136
Model Saved!
====== 16 epoch of 150 ======

====== 100 Step of 196 ======
Train Acc : 0.34870049504950495
Train Loss : 0.006388269364833832

Valid Acc : 0.3453
Valid Loss : 0.007049258798360825
====== 17 epoch of 150 ======

====== 100 Step of 196 ======
Train Acc : 0.36177289603960394
Train Loss : 0.0064460476860404015

Valid Acc : 0.389
Valid Loss : 0.006771903019398451
Model Saved!
====== 18 epoch of 150 ======

====== 100 Step of 196 ======
Train Acc : 0.3699721534653465
Train Loss : 0.007011645007878542

Valid Acc : 0.3992
Valid Loss : 0.006465238053351641
Model Saved!
====== 19 epoch of 150 ======

====== 100 Step of 196 ======
Train Acc : 0.3691599628712871
Train Loss : 0.006159419193863869

Valid Acc : 0.3944
Valid Loss : 0.006500018760561943
====== 20 epoch of 150 ======

====== 100 Step of 196 ======
Train Acc : 0.37817141089108913
Train Loss : 0.0062584239058196545

Valid Acc : 0.399
Valid Loss : 0.0069601996801793575
====== 21 epoch of 150 ======

====== 100 Step of 196 ======
Train Acc : 0.38598391089108913
Train Loss : 0.006537384353578091

Valid Acc : 0.4108
Valid Loss : 0.006626259535551071
Model Saved!
====== 22 epoch of 150 ======

====== 100 Step of 196 ======
Train Acc : 0.3879950495049505
Train Loss : 0.006118972785770893

Valid Acc : 0.3789
Valid Loss : 0.006599888671189547
====== 23 epoch of 150 ======

====== 100 Step of 196 ======
Train Acc : 0.4002165841584158
Train Loss : 0.006042799446731806

Valid Acc : 0.4021
Valid Loss : 0.006470125634223223
====== 24 epoch of 150 ======

====== 100 Step of 196 ======
Train Acc : 0.39692914603960394
Train Loss : 0.006704824976623058

Valid Acc : 0.4163
Valid Loss : 0.006661338731646538
Model Saved!
====== 25 epoch of 150 ======

====== 100 Step of 196 ======
Train Acc : 0.40694616336633666
Train Loss : 0.006245128810405731

Valid Acc : 0.425
Valid Loss : 0.006333237513899803
Model Saved!
====== 26 epoch of 150 ======

====== 100 Step of 196 ======
Train Acc : 0.41491336633663367
Train Loss : 0.006530590355396271

Valid Acc : 0.4353
Valid Loss : 0.006328799296170473
Model Saved!
====== 27 epoch of 150 ======

====== 100 Step of 196 ======
Train Acc : 0.41611231435643564
Train Loss : 0.005861887242645025

Valid Acc : 0.446
Valid Loss : 0.006270733196288347
Model Saved!
====== 28 epoch of 150 ======

====== 100 Step of 196 ======
Train Acc : 0.42210705445544555
Train Loss : 0.0062026940286159515

Valid Acc : 0.4572
Valid Loss : 0.006235349923372269
Model Saved!
====== 29 epoch of 150 ======

====== 100 Step of 196 ======
Train Acc : 0.42964882425742573
Train Loss : 0.005898956209421158

Valid Acc : 0.4347
Valid Loss : 0.0062867687083780766
====== 30 epoch of 150 ======

====== 100 Step of 196 ======
Train Acc : 0.43599164603960394
Train Loss : 0.0061510768719017506

Valid Acc : 0.4558
Valid Loss : 0.006262482143938541
====== 31 epoch of 150 ======

====== 100 Step of 196 ======
Train Acc : 0.44438428217821785
Train Loss : 0.00589410588145256

Valid Acc : 0.4594
Valid Loss : 0.006125926971435547
Model Saved!
====== 32 epoch of 150 ======

====== 100 Step of 196 ======
Train Acc : 0.45308632425742573
Train Loss : 0.005672922823578119

Valid Acc : 0.4644
Valid Loss : 0.006822880357503891
Model Saved!
====== 33 epoch of 150 ======

====== 100 Step of 196 ======
Train Acc : 0.46217512376237624
Train Loss : 0.005840275902301073

Valid Acc : 0.493
Valid Loss : 0.005745723377913237
Model Saved!
====== 34 epoch of 150 ======

====== 100 Step of 196 ======
Train Acc : 0.4733137376237624
Train Loss : 0.005347069352865219

Valid Acc : 0.5011
Valid Loss : 0.0056002396158874035
Model Saved!
====== 35 epoch of 150 ======

====== 100 Step of 196 ======
Train Acc : 0.47648514851485146
Train Loss : 0.00558514567092061

Valid Acc : 0.5026
Valid Loss : 0.005663327872753143
Model Saved!
====== 36 epoch of 150 ======

====== 100 Step of 196 ======
Train Acc : 0.48414294554455445
Train Loss : 0.005210649222135544

Valid Acc : 0.486
Valid Loss : 0.005612541455775499
====== 37 epoch of 150 ======

====== 100 Step of 196 ======
Train Acc : 0.4871209777227723
Train Loss : 0.005589211825281382

Valid Acc : 0.5068
Valid Loss : 0.005573406349867582
Model Saved!
====== 38 epoch of 150 ======

====== 100 Step of 196 ======
Train Acc : 0.49211014851485146
Train Loss : 0.005196217447519302

Valid Acc : 0.5177
Valid Loss : 0.005379474256187677
Model Saved!
====== 39 epoch of 150 ======

====== 100 Step of 196 ======
Train Acc : 0.49566831683168316
Train Loss : 0.005492300260812044

Valid Acc : 0.5191
Valid Loss : 0.005510974209755659
Model Saved!
====== 40 epoch of 150 ======

====== 100 Step of 196 ======
Train Acc : 0.49996132425742573
Train Loss : 0.005082919728010893

Valid Acc : 0.5206
Valid Loss : 0.005431424360722303
Model Saved!
====== 41 epoch of 150 ======

====== 100 Step of 196 ======
Train Acc : 0.506768254950495
Train Loss : 0.005080500617623329

Valid Acc : 0.5189
Valid Loss : 0.005476837977766991
====== 42 epoch of 150 ======

====== 100 Step of 196 ======
Train Acc : 0.504215655940594
Train Loss : 0.005276320036500692

Valid Acc : 0.5209
Valid Loss : 0.005540930666029453
Model Saved!
====== 43 epoch of 150 ======

====== 100 Step of 196 ======
Train Acc : 0.5145034034653465
Train Loss : 0.005412609316408634

Valid Acc : 0.5327
Valid Loss : 0.005268123000860214
Model Saved!
====== 44 epoch of 150 ======

====== 100 Step of 196 ======
Train Acc : 0.5134978341584159
Train Loss : 0.005083336029201746

Valid Acc : 0.5204
Valid Loss : 0.005391070619225502
====== 45 epoch of 150 ======

====== 100 Step of 196 ======
Train Acc : 0.5195699257425742
Train Loss : 0.005544113460928202

Valid Acc : 0.5204
Valid Loss : 0.005558161996304989
====== 46 epoch of 150 ======

====== 100 Step of 196 ======
Train Acc : 0.5203047648514851
Train Loss : 0.00487269414588809

Valid Acc : 0.537
Valid Loss : 0.005104477517306805
Model Saved!
====== 47 epoch of 150 ======

====== 100 Step of 196 ======
Train Acc : 0.5255646658415841
Train Loss : 0.005290608387440443

Valid Acc : 0.5276
Valid Loss : 0.0052734059281647205
====== 48 epoch of 150 ======

====== 100 Step of 196 ======
Train Acc : 0.5320235148514851
Train Loss : 0.005412748083472252

Valid Acc : 0.5526
Valid Loss : 0.005154496058821678
Model Saved!
====== 49 epoch of 150 ======

====== 100 Step of 196 ======
Train Acc : 0.5393332301980198
Train Loss : 0.004813080187886953

Valid Acc : 0.5555
Valid Loss : 0.005024336278438568
Model Saved!
====== 50 epoch of 150 ======

====== 100 Step of 196 ======
Train Acc : 0.5355816831683168
Train Loss : 0.005333855748176575

Valid Acc : 0.5537
Valid Loss : 0.0051668728701770306
====== 51 epoch of 150 ======

====== 100 Step of 196 ======
Train Acc : 0.5599860767326733
Train Loss : 0.004645683337002993

Valid Acc : 0.5765
Valid Loss : 0.004791158717125654
Model Saved!
====== 52 epoch of 150 ======

====== 100 Step of 196 ======
Train Acc : 0.5708152846534653
Train Loss : 0.005002865567803383

Valid Acc : 0.58
Valid Loss : 0.0047967880964279175
Model Saved!
====== 53 epoch of 150 ======

====== 100 Step of 196 ======
Train Acc : 0.5709313118811881
Train Loss : 0.004517058376222849

Valid Acc : 0.5799
Valid Loss : 0.004718565847724676
====== 54 epoch of 150 ======

====== 100 Step of 196 ======
Train Acc : 0.5747215346534653
Train Loss : 0.004784009885042906

Valid Acc : 0.5789
Valid Loss : 0.004856061190366745
====== 55 epoch of 150 ======

====== 100 Step of 196 ======
Train Acc : 0.5727103960396039
Train Loss : 0.004674856550991535

Valid Acc : 0.5823
Valid Loss : 0.004722705576568842
Model Saved!
====== 56 epoch of 150 ======

====== 100 Step of 196 ======
Train Acc : 0.5769647277227723
Train Loss : 0.004292430821806192

Valid Acc : 0.5856
Valid Loss : 0.004750058054924011
Model Saved!
====== 57 epoch of 150 ======

====== 100 Step of 196 ======
Train Acc : 0.5802908415841584
Train Loss : 0.004391184076666832

Valid Acc : 0.5761
Valid Loss : 0.004753892309963703
====== 58 epoch of 150 ======

====== 100 Step of 196 ======
Train Acc : 0.583075495049505
Train Loss : 0.004471237305551767

Valid Acc : 0.5842
Valid Loss : 0.00467225257307291
====== 59 epoch of 150 ======

====== 100 Step of 196 ======
Train Acc : 0.5831141707920792
Train Loss : 0.004699754994362593

Valid Acc : 0.5885
Valid Loss : 0.004735514521598816
Model Saved!
====== 60 epoch of 150 ======

====== 100 Step of 196 ======
Train Acc : 0.5827660891089109
Train Loss : 0.004489681217819452

Valid Acc : 0.586
Valid Loss : 0.0046745408326387405
====== 61 epoch of 150 ======

====== 100 Step of 196 ======
Train Acc : 0.5873298267326733
Train Loss : 0.003981222864240408

Valid Acc : 0.5896
Valid Loss : 0.0046110316179692745
Model Saved!
====== 62 epoch of 150 ======

====== 100 Step of 196 ======
Train Acc : 0.58984375
Train Loss : 0.004427407402545214

Valid Acc : 0.5881
Valid Loss : 0.004732030909508467
====== 63 epoch of 150 ======

====== 100 Step of 196 ======
Train Acc : 0.5894569925742574
Train Loss : 0.004140439908951521

Valid Acc : 0.5851
Valid Loss : 0.004700853489339352
====== 64 epoch of 150 ======

====== 100 Step of 196 ======
Train Acc : 0.5906559405940595
Train Loss : 0.00462627038359642

Valid Acc : 0.5901
Valid Loss : 0.004727615974843502
Model Saved!
====== 65 epoch of 150 ======

====== 100 Step of 196 ======
Train Acc : 0.5921256188118812
Train Loss : 0.0041323937475681305

Valid Acc : 0.5866
Valid Loss : 0.004662374034523964
====== 66 epoch of 150 ======

====== 100 Step of 196 ======
Train Acc : 0.5927831064356436
Train Loss : 0.004321051761507988

Valid Acc : 0.5863
Valid Loss : 0.004670565016567707
====== 67 epoch of 150 ======

====== 100 Step of 196 ======
Train Acc : 0.5882967202970297
Train Loss : 0.004268655553460121

Valid Acc : 0.5902
Valid Loss : 0.004622177220880985
Model Saved!
====== 68 epoch of 150 ======

====== 100 Step of 196 ======
Train Acc : 0.5971147896039604
Train Loss : 0.004123424179852009

Valid Acc : 0.5892
Valid Loss : 0.004645013716071844
====== 69 epoch of 150 ======

====== 100 Step of 196 ======
Train Acc : 0.5956064356435643
Train Loss : 0.004437393043190241

Valid Acc : 0.5941
Valid Loss : 0.004579752217978239
Model Saved!
====== 70 epoch of 150 ======

====== 100 Step of 196 ======
Train Acc : 0.5922416460396039
Train Loss : 0.004531548824161291

Valid Acc : 0.5916
Valid Loss : 0.004652970004826784
====== 71 epoch of 150 ======

====== 100 Step of 196 ======
Train Acc : 0.6000541460396039
Train Loss : 0.004257558844983578

Valid Acc : 0.5911
Valid Loss : 0.004591515753418207
====== 72 epoch of 150 ======

====== 100 Step of 196 ======
Train Acc : 0.5980430074257426
Train Loss : 0.004514614585787058

Valid Acc : 0.5931
Valid Loss : 0.004574169404804707
====== 73 epoch of 150 ======

====== 100 Step of 196 ======
Train Acc : 0.5978883044554455
Train Loss : 0.004656671546399593

Valid Acc : 0.594
Valid Loss : 0.004542201291769743
====== 74 epoch of 150 ======

====== 100 Step of 196 ======
Train Acc : 0.6024520420792079
Train Loss : 0.003983781207352877

Valid Acc : 0.5932
Valid Loss : 0.004610208794474602
====== 75 epoch of 150 ======

====== 100 Step of 196 ======
Train Acc : 0.6001314975247525
Train Loss : 0.004478661809116602

Valid Acc : 0.5952
Valid Loss : 0.004556054715067148
Model Saved!
====== 76 epoch of 150 ======

====== 100 Step of 196 ======
Train Acc : 0.5991259282178217
Train Loss : 0.004366329871118069

Valid Acc : 0.596
Valid Loss : 0.004547744058072567
Model Saved!
====== 77 epoch of 150 ======

====== 100 Step of 196 ======
Train Acc : 0.6008663366336634
Train Loss : 0.004462586250156164

Valid Acc : 0.599
Valid Loss : 0.004543226677924395
Model Saved!
====== 78 epoch of 150 ======

====== 100 Step of 196 ======
Train Acc : 0.603225556930693
Train Loss : 0.004483076743781567

Valid Acc : 0.5949
Valid Loss : 0.004602083470672369
====== 79 epoch of 150 ======

====== 100 Step of 196 ======
Train Acc : 0.6076732673267327
Train Loss : 0.004140546545386314

Valid Acc : 0.5987
Valid Loss : 0.004529397003352642
====== 80 epoch of 150 ======

====== 100 Step of 196 ======
Train Acc : 0.610573948019802
Train Loss : 0.0043009137734770775

Valid Acc : 0.5963
Valid Loss : 0.004543671850115061
====== 81 epoch of 150 ======

====== 100 Step of 196 ======
Train Acc : 0.6051206683168316
Train Loss : 0.004280413500964642

Valid Acc : 0.5985
Valid Loss : 0.004535829182714224
====== 82 epoch of 150 ======

====== 100 Step of 196 ======
Train Acc : 0.607131806930693
Train Loss : 0.004528312478214502

Valid Acc : 0.5967
Valid Loss : 0.004615817219018936
====== 83 epoch of 150 ======

====== 100 Step of 196 ======
Train Acc : 0.6103805693069307
Train Loss : 0.00435613514855504

Valid Acc : 0.5948
Valid Loss : 0.00455454271286726
====== 84 epoch of 150 ======

====== 100 Step of 196 ======
Train Acc : 0.6106899752475248
Train Loss : 0.004558907356113195

Valid Acc : 0.6029
Valid Loss : 0.004507552832365036
Model Saved!
====== 85 epoch of 150 ======

====== 100 Step of 196 ======
Train Acc : 0.6101871905940595
Train Loss : 0.004095636773854494

Valid Acc : 0.5963
Valid Loss : 0.0046110437251627445
====== 86 epoch of 150 ======

====== 100 Step of 196 ======
Train Acc : 0.6154857673267327
Train Loss : 0.003714277409017086

Valid Acc : 0.5984
Valid Loss : 0.004535115323960781
====== 87 epoch of 150 ======

====== 100 Step of 196 ======
Train Acc : 0.6115795173267327
Train Loss : 0.0043680910021066666

Valid Acc : 0.5991
Valid Loss : 0.004552945028990507
====== 88 epoch of 150 ======

====== 100 Step of 196 ======
Train Acc : 0.6128558168316832
Train Loss : 0.004105267580598593

Valid Acc : 0.6009
Valid Loss : 0.004717663861811161
====== 89 epoch of 150 ======

====== 100 Step of 196 ======
Train Acc : 0.6123917079207921
Train Loss : 0.004047938622534275

Valid Acc : 0.6032
Valid Loss : 0.004622661042958498
Model Saved!
====== 90 epoch of 150 ======

====== 100 Step of 196 ======
Train Acc : 0.6195080445544554
Train Loss : 0.00406185956671834

Valid Acc : 0.6013
Valid Loss : 0.0045472802594304085
====== 91 epoch of 150 ======

====== 100 Step of 196 ======
Train Acc : 0.61328125
Train Loss : 0.00375137641094625

Valid Acc : 0.6031
Valid Loss : 0.004466835875064135
====== 92 epoch of 150 ======

====== 100 Step of 196 ======
Train Acc : 0.6151763613861386
Train Loss : 0.004080513026565313

Valid Acc : 0.6068
Valid Loss : 0.004520191345363855
Model Saved!
====== 93 epoch of 150 ======

====== 100 Step of 196 ======
Train Acc : 0.6200108292079208
Train Loss : 0.0047241756692528725

Valid Acc : 0.6117
Valid Loss : 0.00447665574029088
Model Saved!
====== 94 epoch of 150 ======

====== 100 Step of 196 ======
Train Acc : 0.6165300123762376
Train Loss : 0.0039020103868097067

Valid Acc : 0.6021
Valid Loss : 0.004575904458761215
====== 95 epoch of 150 ======

====== 100 Step of 196 ======
Train Acc : 0.6211324257425742
Train Loss : 0.004259709268808365

Valid Acc : 0.6059
Valid Loss : 0.004484971985220909
====== 96 epoch of 150 ======

====== 100 Step of 196 ======
Train Acc : 0.6202428836633663
Train Loss : 0.0037589899729937315

Valid Acc : 0.6018
Valid Loss : 0.004495129454880953
====== 97 epoch of 150 ======

====== 100 Step of 196 ======
Train Acc : 0.6209777227722773
Train Loss : 0.004066673573106527

Valid Acc : 0.6082
Valid Loss : 0.004478113260120153
====== 98 epoch of 150 ======

====== 100 Step of 196 ======
Train Acc : 0.6189665841584159
Train Loss : 0.003905079560354352

Valid Acc : 0.6061
Valid Loss : 0.0045655411668121815
====== 99 epoch of 150 ======

====== 100 Step of 196 ======
Train Acc : 0.623801051980198
Train Loss : 0.0038000443018972874

Valid Acc : 0.6062
Valid Loss : 0.004458247683942318
====== 100 epoch of 150 ======

====== 100 Step of 196 ======
Train Acc : 0.6275912747524752
Train Loss : 0.00449679559096694

Valid Acc : 0.6111
Valid Loss : 0.004435444716364145
====== 101 epoch of 150 ======

====== 100 Step of 196 ======
Train Acc : 0.6338954207920792
Train Loss : 0.003965665120631456

Valid Acc : 0.6127
Valid Loss : 0.0044206250458955765
Model Saved!
====== 102 epoch of 150 ======

====== 100 Step of 196 ======
Train Acc : 0.6372988861386139
Train Loss : 0.003891893895342946

Valid Acc : 0.6136
Valid Loss : 0.00444311648607254
Model Saved!
====== 103 epoch of 150 ======

====== 100 Step of 196 ======
Train Acc : 0.6358678836633663
Train Loss : 0.004397047683596611

Valid Acc : 0.6119
Valid Loss : 0.004534771200269461
====== 104 epoch of 150 ======

====== 100 Step of 196 ======
Train Acc : 0.6366413985148515
Train Loss : 0.0039258673787117004

Valid Acc : 0.6137
Valid Loss : 0.00440209312364459
Model Saved!
====== 105 epoch of 150 ======

====== 100 Step of 196 ======
Train Acc : 0.6333539603960396
Train Loss : 0.0034646878484636545

Valid Acc : 0.6151
Valid Loss : 0.004376376047730446
Model Saved!
====== 106 epoch of 150 ======

====== 100 Step of 196 ======
Train Acc : 0.6376469678217822
Train Loss : 0.003782634623348713

Valid Acc : 0.6149
Valid Loss : 0.0043908352963626385
====== 107 epoch of 150 ======

====== 100 Step of 196 ======
Train Acc : 0.6390392945544554
Train Loss : 0.0035993026103824377

Valid Acc : 0.6132
Valid Loss : 0.004396448843181133
====== 108 epoch of 150 ======

====== 100 Step of 196 ======
Train Acc : 0.6366413985148515
Train Loss : 0.0038456874899566174

Valid Acc : 0.6149
Valid Loss : 0.004409259185194969
====== 109 epoch of 150 ======

====== 100 Step of 196 ======
Train Acc : 0.6368734529702971
Train Loss : 0.0039572399109601974

Valid Acc : 0.6155
Valid Loss : 0.004413193091750145
Model Saved!
====== 110 epoch of 150 ======

====== 100 Step of 196 ======
Train Acc : 0.6408183787128713
Train Loss : 0.004230469930917025

Valid Acc : 0.6156
Valid Loss : 0.004441262688487768
Model Saved!
====== 111 epoch of 150 ======

====== 100 Step of 196 ======
Train Acc : 0.637917698019802
Train Loss : 0.0036904672160744667

Valid Acc : 0.6147
Valid Loss : 0.004395796451717615
====== 112 epoch of 150 ======

====== 100 Step of 196 ======
Train Acc : 0.6407023514851485
Train Loss : 0.0036566094495356083

Valid Acc : 0.6163
Valid Loss : 0.004368755966424942
Model Saved!
====== 113 epoch of 150 ======

====== 100 Step of 196 ======
Train Acc : 0.6438737623762376
Train Loss : 0.004103396087884903

Valid Acc : 0.614
Valid Loss : 0.004371269606053829
====== 114 epoch of 150 ======

====== 100 Step of 196 ======
Train Acc : 0.643487004950495
Train Loss : 0.00344464392401278

Valid Acc : 0.6177
Valid Loss : 0.004409782588481903
Model Saved!
====== 115 epoch of 150 ======

====== 100 Step of 196 ======
Train Acc : 0.6428295173267327
Train Loss : 0.003821970894932747

Valid Acc : 0.6156
Valid Loss : 0.004448519088327885
====== 116 epoch of 150 ======

====== 100 Step of 196 ======
Train Acc : 0.6429455445544554
Train Loss : 0.003894631750881672

Valid Acc : 0.6146
Valid Loss : 0.004372816998511553
====== 117 epoch of 150 ======

====== 100 Step of 196 ======
Train Acc : 0.6404702970297029
Train Loss : 0.004506418015807867

Valid Acc : 0.6158
Valid Loss : 0.00445775268599391
====== 118 epoch of 150 ======

====== 100 Step of 196 ======
Train Acc : 0.6413985148514851
Train Loss : 0.003962411545217037

Valid Acc : 0.617
Valid Loss : 0.004510011523962021
====== 119 epoch of 150 ======

====== 100 Step of 196 ======
Train Acc : 0.6434483292079208
Train Loss : 0.0036238678731024265

Valid Acc : 0.6152
Valid Loss : 0.004404199309647083
====== 120 epoch of 150 ======

====== 100 Step of 196 ======
Train Acc : 0.6459622524752475
Train Loss : 0.003941221162676811

Valid Acc : 0.6184
Valid Loss : 0.004452640190720558
Model Saved!
====== 121 epoch of 150 ======

====== 100 Step of 196 ======
Train Acc : 0.6430228960396039
Train Loss : 0.004020392894744873

Valid Acc : 0.6168
Valid Loss : 0.004387585911899805
====== 122 epoch of 150 ======

====== 100 Step of 196 ======
Train Acc : 0.6444925742574258
Train Loss : 0.0038274775724858046

Valid Acc : 0.618
Valid Loss : 0.004396150819957256
====== 123 epoch of 150 ======

====== 100 Step of 196 ======
Train Acc : 0.6367574257425742
Train Loss : 0.0035649652127176523

Valid Acc : 0.6169
Valid Loss : 0.00437026796862483
====== 124 epoch of 150 ======

====== 100 Step of 196 ======
Train Acc : 0.6385751856435643
Train Loss : 0.00419219397008419

Valid Acc : 0.6141
Valid Loss : 0.004483477678149939
====== 125 epoch of 150 ======

====== 100 Step of 196 ======
Train Acc : 0.6465810643564357
Train Loss : 0.0038500609807670116

Valid Acc : 0.6152
Valid Loss : 0.004425994586199522
====== 126 epoch of 150 ======

====== 100 Step of 196 ======
Train Acc : 0.6405476485148515
Train Loss : 0.003950956277549267

Valid Acc : 0.6152
Valid Loss : 0.004371670540422201
====== 127 epoch of 150 ======

====== 100 Step of 196 ======
Train Acc : 0.6443765470297029
Train Loss : 0.004213221371173859

Valid Acc : 0.6165
Valid Loss : 0.004407668020576239
====== 128 epoch of 150 ======

====== 100 Step of 196 ======
Train Acc : 0.6466584158415841
Train Loss : 0.0038966897409409285

Valid Acc : 0.6187
Valid Loss : 0.004409230779856443
Model Saved!
====== 129 epoch of 150 ======

====== 100 Step of 196 ======
Train Acc : 0.6438350866336634
Train Loss : 0.00403181416913867

Valid Acc : 0.6095
Valid Loss : 0.004511432722210884
====== 130 epoch of 150 ======

====== 100 Step of 196 ======
Train Acc : 0.6444925742574258
Train Loss : 0.00381425186060369

Valid Acc : 0.6181
Valid Loss : 0.004388991743326187
====== 131 epoch of 150 ======

====== 100 Step of 196 ======
Train Acc : 0.6487082301980198
Train Loss : 0.004221051000058651

Valid Acc : 0.6178
Valid Loss : 0.004368333145976067
====== 132 epoch of 150 ======

====== 100 Step of 196 ======
Train Acc : 0.6478573638613861
Train Loss : 0.0039169383235275745

Valid Acc : 0.6151
Valid Loss : 0.004418888129293919
====== 133 epoch of 150 ======

====== 100 Step of 196 ======
Train Acc : 0.6440284653465347
Train Loss : 0.003995649516582489

Valid Acc : 0.6166
Valid Loss : 0.004392741248011589
====== 134 epoch of 150 ======

====== 100 Step of 196 ======
Train Acc : 0.6466584158415841
Train Loss : 0.0036412717308849096

Valid Acc : 0.614
Valid Loss : 0.004394352901726961
====== 135 epoch of 150 ======

====== 100 Step of 196 ======
Train Acc : 0.6432549504950495
Train Loss : 0.003687844146043062

Valid Acc : 0.6181
Valid Loss : 0.004348048474639654
====== 136 epoch of 150 ======

====== 100 Step of 196 ======
Train Acc : 0.6443765470297029
Train Loss : 0.00445600925013423

Valid Acc : 0.6186
Valid Loss : 0.004399707540869713
====== 137 epoch of 150 ======

====== 100 Step of 196 ======
Train Acc : 0.6484375
Train Loss : 0.0034509405959397554

Valid Acc : 0.6169
Valid Loss : 0.004407641477882862
====== 138 epoch of 150 ======

====== 100 Step of 196 ======
Train Acc : 0.6458075495049505
Train Loss : 0.003410220379009843

Valid Acc : 0.6168
Valid Loss : 0.004375450313091278
====== 139 epoch of 150 ======

====== 100 Step of 196 ======
Train Acc : 0.6480120668316832
Train Loss : 0.004457398317754269

Valid Acc : 0.6154
Valid Loss : 0.004375180695205927
====== 140 epoch of 150 ======

====== 100 Step of 196 ======
Train Acc : 0.6451113861386139
Train Loss : 0.004050531890243292

Valid Acc : 0.6157
Valid Loss : 0.004389949142932892
====== 141 epoch of 150 ======

====== 100 Step of 196 ======
Train Acc : 0.6483214727722773
Train Loss : 0.0034642971586436033

Valid Acc : 0.6184
Valid Loss : 0.00435500405728817
====== 142 epoch of 150 ======

====== 100 Step of 196 ======
Train Acc : 0.6471998762376238
Train Loss : 0.003883819794282317

Valid Acc : 0.6206
Valid Loss : 0.004384567961096764
Model Saved!
====== 143 epoch of 150 ======

====== 100 Step of 196 ======
Train Acc : 0.6475479579207921
Train Loss : 0.003984137438237667

Valid Acc : 0.6183
Valid Loss : 0.004388199187815189
====== 144 epoch of 150 ======

====== 100 Step of 196 ======
Train Acc : 0.6477413366336634
Train Loss : 0.0040808930061757565

Valid Acc : 0.6189
Valid Loss : 0.004443608224391937
====== 145 epoch of 150 ======

====== 100 Step of 196 ======
Train Acc : 0.6436803836633663
Train Loss : 0.004187056794762611

Valid Acc : 0.614
Valid Loss : 0.004491407889872789
====== 146 epoch of 150 ======

====== 100 Step of 196 ======
Train Acc : 0.6468904702970297
Train Loss : 0.0038616822566837072

Valid Acc : 0.6198
Valid Loss : 0.004360223188996315
====== 147 epoch of 150 ======

====== 100 Step of 196 ======
Train Acc : 0.6466584158415841
Train Loss : 0.0041463179513812065

Valid Acc : 0.6156
Valid Loss : 0.004378840792924166
====== 148 epoch of 150 ======

====== 100 Step of 196 ======
Train Acc : 0.6473159034653465
Train Loss : 0.004300755448639393

Valid Acc : 0.6179
Valid Loss : 0.004474894143640995
====== 149 epoch of 150 ======

====== 100 Step of 196 ======
Train Acc : 0.6462716584158416
Train Loss : 0.0034504467621445656

Valid Acc : 0.6192
Valid Loss : 0.004420625511556864
====== 150 epoch of 150 ======

====== 100 Step of 196 ======
Train Acc : 0.6508740717821783
Train Loss : 0.004088553134351969

Valid Acc : 0.6186
Valid Loss : 0.0043673403561115265
