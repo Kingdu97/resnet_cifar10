====== 1 epoch of 150 ======

====== 100 Step of 196 ======
Train Acc : 0.10860148514851485
Train Loss : 0.00954500027000904

Valid Acc : 0.107
Valid Loss : 0.01199854165315628
Model Saved!
====== 2 epoch of 150 ======

====== 100 Step of 196 ======
Train Acc : 0.14979115099009901
Train Loss : 0.01014499831944704

Valid Acc : 0.1603
Valid Loss : 0.01950155571103096
Model Saved!
====== 3 epoch of 150 ======

====== 100 Step of 196 ======
Train Acc : 0.1899365717821782
Train Loss : 0.00823589600622654

Valid Acc : 0.2133
Valid Loss : 0.009104123339056969
Model Saved!
====== 4 epoch of 150 ======

====== 100 Step of 196 ======
Train Acc : 0.21213644801980197
Train Loss : 0.007797380909323692

Valid Acc : 0.2284
Valid Loss : 0.01005564909428358
Model Saved!
====== 5 epoch of 150 ======

====== 100 Step of 196 ======
Train Acc : 0.23561262376237624
Train Loss : 0.0077891587279737

Valid Acc : 0.2725
Valid Loss : 0.007912649773061275
Model Saved!
====== 6 epoch of 150 ======

====== 100 Step of 196 ======
Train Acc : 0.2602490717821782
Train Loss : 0.007502485066652298

Valid Acc : 0.2886
Valid Loss : 0.007541848346590996
Model Saved!
====== 7 epoch of 150 ======

====== 100 Step of 196 ======
Train Acc : 0.2724706064356436
Train Loss : 0.007666606456041336

Valid Acc : 0.3228
Valid Loss : 0.007243779022246599
Model Saved!
====== 8 epoch of 150 ======

====== 100 Step of 196 ======
Train Acc : 0.29501856435643564
Train Loss : 0.006979332771152258

Valid Acc : 0.3247
Valid Loss : 0.00748519878834486
Model Saved!
====== 9 epoch of 150 ======

====== 100 Step of 196 ======
Train Acc : 0.3106048886138614
Train Loss : 0.007109291385859251

Valid Acc : 0.35
Valid Loss : 0.00687692454084754
Model Saved!
====== 10 epoch of 150 ======

====== 100 Step of 196 ======
Train Acc : 0.32352258663366334
Train Loss : 0.007057420909404755

Valid Acc : 0.3522
Valid Loss : 0.006934450473636389
Model Saved!
====== 11 epoch of 150 ======

====== 100 Step of 196 ======
Train Acc : 0.32727413366336633
Train Loss : 0.007049651816487312

Valid Acc : 0.3708
Valid Loss : 0.0066529735922813416
Model Saved!
====== 12 epoch of 150 ======

====== 100 Step of 196 ======
Train Acc : 0.33860612623762376
Train Loss : 0.006816487293690443

Valid Acc : 0.3122
Valid Loss : 0.0075003234669566154
====== 13 epoch of 150 ======

====== 100 Step of 196 ======
Train Acc : 0.29985303217821785
Train Loss : 0.0068582091480493546

Valid Acc : 0.3288
Valid Loss : 0.007021385245025158
====== 14 epoch of 150 ======

====== 100 Step of 196 ======
Train Acc : 0.34332456683168316
Train Loss : 0.006692011374980211

Valid Acc : 0.3628
Valid Loss : 0.006744591519236565
====== 15 epoch of 150 ======

====== 100 Step of 196 ======
Train Acc : 0.3584081064356436
Train Loss : 0.0064335232600569725

Valid Acc : 0.2092
Valid Loss : 0.022696543484926224
====== 16 epoch of 150 ======

====== 100 Step of 196 ======
Train Acc : 0.30163211633663367
Train Loss : 0.007128688972443342

Valid Acc : 0.3812
Valid Loss : 0.006583586800843477
Model Saved!
====== 17 epoch of 150 ======

====== 100 Step of 196 ======
Train Acc : 0.3531868811881188
Train Loss : 0.006515999790281057

Valid Acc : 0.3811
Valid Loss : 0.006513715256005526
====== 18 epoch of 150 ======

====== 100 Step of 196 ======
Train Acc : 0.3739170792079208
Train Loss : 0.0063235824927687645

Valid Acc : 0.3815
Valid Loss : 0.006698689889162779
Model Saved!
====== 19 epoch of 150 ======

====== 100 Step of 196 ======
Train Acc : 0.3816909034653465
Train Loss : 0.006615388207137585

Valid Acc : 0.4064
Valid Loss : 0.006262059789150953
Model Saved!
====== 20 epoch of 150 ======

====== 100 Step of 196 ======
Train Acc : 0.39530476485148514
Train Loss : 0.0063765267841517925

Valid Acc : 0.4192
Valid Loss : 0.0061395615339279175
Model Saved!
====== 21 epoch of 150 ======

====== 100 Step of 196 ======
Train Acc : 0.404896349009901
Train Loss : 0.006652564276009798

Valid Acc : 0.4284
Valid Loss : 0.006073445547372103
Model Saved!
====== 22 epoch of 150 ======

====== 100 Step of 196 ======
Train Acc : 0.41328898514851486
Train Loss : 0.00583431962877512

Valid Acc : 0.4499
Valid Loss : 0.005907255224883556
Model Saved!
====== 23 epoch of 150 ======

====== 100 Step of 196 ======
Train Acc : 0.42895266089108913
Train Loss : 0.005736795719712973

Valid Acc : 0.4573
Valid Loss : 0.00585268996655941
Model Saved!
====== 24 epoch of 150 ======

====== 100 Step of 196 ======
Train Acc : 0.4348700495049505
Train Loss : 0.005897887982428074

Valid Acc : 0.4495
Valid Loss : 0.005892112385481596
====== 25 epoch of 150 ======

====== 100 Step of 196 ======
Train Acc : 0.4375
Train Loss : 0.006161797326058149

Valid Acc : 0.4659
Valid Loss : 0.005758895538747311
Model Saved!
====== 26 epoch of 150 ======

====== 100 Step of 196 ======
Train Acc : 0.44952815594059403
Train Loss : 0.006070139817893505

Valid Acc : 0.4868
Valid Loss : 0.005632408894598484
Model Saved!
====== 27 epoch of 150 ======

====== 100 Step of 196 ======
Train Acc : 0.4575727103960396
Train Loss : 0.006444662343710661

Valid Acc : 0.4729
Valid Loss : 0.005691990721970797
====== 28 epoch of 150 ======

====== 100 Step of 196 ======
Train Acc : 0.4629486386138614
Train Loss : 0.005820164456963539

Valid Acc : 0.4889
Valid Loss : 0.005547555163502693
Model Saved!
====== 29 epoch of 150 ======

====== 100 Step of 196 ======
Train Acc : 0.4659266707920792
Train Loss : 0.005239903926849365

Valid Acc : 0.4848
Valid Loss : 0.005598264746367931
====== 30 epoch of 150 ======

====== 100 Step of 196 ======
Train Acc : 0.4747447400990099
Train Loss : 0.005497756879776716

Valid Acc : 0.495
Valid Loss : 0.005575119983404875
Model Saved!
====== 31 epoch of 150 ======

====== 100 Step of 196 ======
Train Acc : 0.4850324876237624
Train Loss : 0.005691202823072672

Valid Acc : 0.5029
Valid Loss : 0.005416523665189743
Model Saved!
====== 32 epoch of 150 ======

====== 100 Step of 196 ======
Train Acc : 0.48607673267326734
Train Loss : 0.005854897201061249

Valid Acc : 0.488
Valid Loss : 0.005610519554466009
====== 33 epoch of 150 ======

====== 100 Step of 196 ======
Train Acc : 0.49570699257425743
Train Loss : 0.0052427975460886955

Valid Acc : 0.5119
Valid Loss : 0.0053662448190152645
Model Saved!
====== 34 epoch of 150 ======

====== 100 Step of 196 ======
Train Acc : 0.49404393564356436
Train Loss : 0.005360879935324192

Valid Acc : 0.5186
Valid Loss : 0.005286139436066151
Model Saved!
====== 35 epoch of 150 ======

====== 100 Step of 196 ======
Train Acc : 0.5021271658415841
Train Loss : 0.004933367483317852

Valid Acc : 0.5273
Valid Loss : 0.005314313340932131
Model Saved!
====== 36 epoch of 150 ======

====== 100 Step of 196 ======
Train Acc : 0.5089340965346535
Train Loss : 0.005410247948020697

Valid Acc : 0.5274
Valid Loss : 0.0052641103975474834
Model Saved!
====== 37 epoch of 150 ======

====== 100 Step of 196 ======
Train Acc : 0.5139232673267327
Train Loss : 0.00503986980766058

Valid Acc : 0.5338
Valid Loss : 0.005188307259231806
Model Saved!
====== 38 epoch of 150 ======

====== 100 Step of 196 ======
Train Acc : 0.5252939356435643
Train Loss : 0.005226452369242907

Valid Acc : 0.5355
Valid Loss : 0.005219611339271069
Model Saved!
====== 39 epoch of 150 ======

====== 100 Step of 196 ======
Train Acc : 0.5247524752475248
Train Loss : 0.0050050728023052216

Valid Acc : 0.5169
Valid Loss : 0.005274079740047455
====== 40 epoch of 150 ======

====== 100 Step of 196 ======
Train Acc : 0.528697400990099
Train Loss : 0.005027630366384983

Valid Acc : 0.5355
Valid Loss : 0.005198928993195295
====== 41 epoch of 150 ======

====== 100 Step of 196 ======
Train Acc : 0.5359684405940595
Train Loss : 0.004993915557861328

Valid Acc : 0.5489
Valid Loss : 0.005021665245294571
Model Saved!
====== 42 epoch of 150 ======

====== 100 Step of 196 ======
Train Acc : 0.5385597153465347
Train Loss : 0.004505829885601997

Valid Acc : 0.5529
Valid Loss : 0.004965911153703928
Model Saved!
====== 43 epoch of 150 ======

====== 100 Step of 196 ======
Train Acc : 0.5459081064356436
Train Loss : 0.004854724742472172

Valid Acc : 0.5518
Valid Loss : 0.004910935647785664
====== 44 epoch of 150 ======

====== 100 Step of 196 ======
Train Acc : 0.5537979579207921
Train Loss : 0.004689417313784361

Valid Acc : 0.5577
Valid Loss : 0.004951455630362034
Model Saved!
====== 45 epoch of 150 ======

====== 100 Step of 196 ======
Train Acc : 0.5526376856435643
Train Loss : 0.0049088262021541595

Valid Acc : 0.5317
Valid Loss : 0.005366884637624025
====== 46 epoch of 150 ======

====== 100 Step of 196 ======
Train Acc : 0.558284344059406
Train Loss : 0.004566361662000418

Valid Acc : 0.5718
Valid Loss : 0.004760578740388155
Model Saved!
====== 47 epoch of 150 ======

====== 100 Step of 196 ======
Train Acc : 0.5628480816831684
Train Loss : 0.0045760627835989

Valid Acc : 0.5651
Valid Loss : 0.004831257276237011
====== 48 epoch of 150 ======

====== 100 Step of 196 ======
Train Acc : 0.5685334158415841
Train Loss : 0.004880577325820923

Valid Acc : 0.4992
Valid Loss : 0.005771022289991379
====== 49 epoch of 150 ======

====== 100 Step of 196 ======
Train Acc : 0.5705445544554455
Train Loss : 0.0048490604385733604

Valid Acc : 0.5787
Valid Loss : 0.004769987892359495
Model Saved!
====== 50 epoch of 150 ======

====== 100 Step of 196 ======
Train Acc : 0.5771194306930693
Train Loss : 0.004672598093748093

Valid Acc : 0.5507
Valid Loss : 0.005210441071540117
====== 51 epoch of 150 ======

====== 100 Step of 196 ======
Train Acc : 0.5930925123762376
Train Loss : 0.00417065666988492

Valid Acc : 0.6162
Valid Loss : 0.004292717669159174
Model Saved!
====== 52 epoch of 150 ======

====== 100 Step of 196 ======
Train Acc : 0.6151376856435643
Train Loss : 0.004025791771709919

Valid Acc : 0.6213
Valid Loss : 0.004267606884241104
Model Saved!
====== 53 epoch of 150 ======

====== 100 Step of 196 ======
Train Acc : 0.611038056930693
Train Loss : 0.003733716905117035

Valid Acc : 0.6197
Valid Loss : 0.004275372251868248
====== 54 epoch of 150 ======

====== 100 Step of 196 ======
Train Acc : 0.6191986386138614
Train Loss : 0.003966203890740871

Valid Acc : 0.622
Valid Loss : 0.0042497566901147366
Model Saved!
====== 55 epoch of 150 ======

====== 100 Step of 196 ======
Train Acc : 0.6173808787128713
Train Loss : 0.0043224794790148735

Valid Acc : 0.6242
Valid Loss : 0.004225451499223709
Model Saved!
====== 56 epoch of 150 ======

====== 100 Step of 196 ======
Train Acc : 0.6204362623762376
Train Loss : 0.004078993108123541

Valid Acc : 0.6297
Valid Loss : 0.004217622801661491
Model Saved!
====== 57 epoch of 150 ======

====== 100 Step of 196 ======
Train Acc : 0.6229115099009901
Train Loss : 0.004580887965857983

Valid Acc : 0.628
Valid Loss : 0.004229713696986437
====== 58 epoch of 150 ======

====== 100 Step of 196 ======
Train Acc : 0.6181543935643564
Train Loss : 0.004537499044090509

Valid Acc : 0.6294
Valid Loss : 0.0042320359498262405
====== 59 epoch of 150 ======

====== 100 Step of 196 ======
Train Acc : 0.6242651608910891
Train Loss : 0.004141896963119507

Valid Acc : 0.6275
Valid Loss : 0.004212033934891224
====== 60 epoch of 150 ======

====== 100 Step of 196 ======
Train Acc : 0.6265470297029703
Train Loss : 0.003952461294829845

Valid Acc : 0.6266
Valid Loss : 0.00422248151153326
====== 61 epoch of 150 ======

====== 100 Step of 196 ======
Train Acc : 0.6276299504950495
Train Loss : 0.003698062151670456

Valid Acc : 0.628
Valid Loss : 0.004213633015751839
====== 62 epoch of 150 ======

====== 100 Step of 196 ======
Train Acc : 0.6271658415841584
Train Loss : 0.004050163552165031

Valid Acc : 0.6311
Valid Loss : 0.004189614672213793
Model Saved!
====== 63 epoch of 150 ======

====== 100 Step of 196 ======
Train Acc : 0.6286355198019802
Train Loss : 0.0038742811884731054

Valid Acc : 0.6299
Valid Loss : 0.0041778781451284885
====== 64 epoch of 150 ======

====== 100 Step of 196 ======
Train Acc : 0.6327351485148515
Train Loss : 0.003976341802626848

Valid Acc : 0.6324
Valid Loss : 0.0041623907163739204
Model Saved!
====== 65 epoch of 150 ======

====== 100 Step of 196 ======
Train Acc : 0.6298344678217822
Train Loss : 0.004431379958987236

Valid Acc : 0.6335
Valid Loss : 0.0041478415951132774
Model Saved!
====== 66 epoch of 150 ======

====== 100 Step of 196 ======
Train Acc : 0.6298731435643564
Train Loss : 0.004178369417786598

Valid Acc : 0.6343
Valid Loss : 0.004143229220062494
Model Saved!
====== 67 epoch of 150 ======

====== 100 Step of 196 ======
Train Acc : 0.6383431311881188
Train Loss : 0.003875844180583954

Valid Acc : 0.638
Valid Loss : 0.00414611678570509
Model Saved!
====== 68 epoch of 150 ======

====== 100 Step of 196 ======
Train Acc : 0.6321550123762376
Train Loss : 0.003962517250329256

Valid Acc : 0.6383
Valid Loss : 0.004115286748856306
Model Saved!
====== 69 epoch of 150 ======

====== 100 Step of 196 ======
Train Acc : 0.6388459158415841
Train Loss : 0.00395188620314002

Valid Acc : 0.6365
Valid Loss : 0.004129610490053892
====== 70 epoch of 150 ======

====== 100 Step of 196 ======
Train Acc : 0.6395420792079208
Train Loss : 0.004096933640539646

Valid Acc : 0.6399
Valid Loss : 0.004113056231290102
Model Saved!
====== 71 epoch of 150 ======

====== 100 Step of 196 ======
Train Acc : 0.6335086633663366
Train Loss : 0.003982282243669033

Valid Acc : 0.6382
Valid Loss : 0.004127650521695614
====== 72 epoch of 150 ======

====== 100 Step of 196 ======
Train Acc : 0.6389232673267327
Train Loss : 0.00427129166200757

Valid Acc : 0.6363
Valid Loss : 0.004131733905524015
====== 73 epoch of 150 ======

====== 100 Step of 196 ======
Train Acc : 0.639271349009901
Train Loss : 0.004073758143931627

Valid Acc : 0.6391
Valid Loss : 0.004114908166229725
====== 74 epoch of 150 ======

====== 100 Step of 196 ======
Train Acc : 0.6429842202970297
Train Loss : 0.003785949433222413

Valid Acc : 0.6416
Valid Loss : 0.004112035967409611
Model Saved!
====== 75 epoch of 150 ======

====== 100 Step of 196 ======
Train Acc : 0.6371055074257426
Train Loss : 0.0043455734848976135

Valid Acc : 0.6375
Valid Loss : 0.004088955000042915
====== 76 epoch of 150 ======

====== 100 Step of 196 ======
Train Acc : 0.6410504331683168
Train Loss : 0.003980561625212431

Valid Acc : 0.6377
Valid Loss : 0.004114381968975067
====== 77 epoch of 150 ======

====== 100 Step of 196 ======
Train Acc : 0.6439124381188119
Train Loss : 0.0041969530284404755

Valid Acc : 0.6403
Valid Loss : 0.0040984866209328175
====== 78 epoch of 150 ======

====== 100 Step of 196 ======
Train Acc : 0.6437190594059405
Train Loss : 0.003933181054890156

Valid Acc : 0.6383
Valid Loss : 0.0040988982655107975
====== 79 epoch of 150 ======

====== 100 Step of 196 ======
Train Acc : 0.6445699257425742
Train Loss : 0.003580815391615033

Valid Acc : 0.639
Valid Loss : 0.004098761361092329
====== 80 epoch of 150 ======

====== 100 Step of 196 ======
Train Acc : 0.6441831683168316
Train Loss : 0.0036919412668794394

Valid Acc : 0.6412
Valid Loss : 0.004066580906510353
====== 81 epoch of 150 ======

====== 100 Step of 196 ======
Train Acc : 0.6483601485148515
Train Loss : 0.0037055201828479767

Valid Acc : 0.6389
Valid Loss : 0.004073168616741896
====== 82 epoch of 150 ======

====== 100 Step of 196 ======
Train Acc : 0.6419399752475248
Train Loss : 0.00372552452608943

Valid Acc : 0.6442
Valid Loss : 0.004067546688020229
Model Saved!
====== 83 epoch of 150 ======

====== 100 Step of 196 ======
Train Acc : 0.647238551980198
Train Loss : 0.003788687288761139

Valid Acc : 0.644
Valid Loss : 0.004057903774082661
====== 84 epoch of 150 ======

====== 100 Step of 196 ======
Train Acc : 0.6477026608910891
Train Loss : 0.003743370296433568

Valid Acc : 0.6431
Valid Loss : 0.004051050171256065
====== 85 epoch of 150 ======

====== 100 Step of 196 ======
Train Acc : 0.645884900990099
Train Loss : 0.0038460325449705124

Valid Acc : 0.6421
Valid Loss : 0.004106855019927025
====== 86 epoch of 150 ======

====== 100 Step of 196 ======
Train Acc : 0.6524597772277227
Train Loss : 0.00374859687872231

Valid Acc : 0.6409
Valid Loss : 0.004108069930225611
====== 87 epoch of 150 ======

====== 100 Step of 196 ======
Train Acc : 0.6527305074257426
Train Loss : 0.003759020706638694

Valid Acc : 0.6451
Valid Loss : 0.004033316858112812
Model Saved!
====== 88 epoch of 150 ======

====== 100 Step of 196 ======
Train Acc : 0.6497137995049505
Train Loss : 0.003857024945318699

Valid Acc : 0.6495
Valid Loss : 0.004035378340631723
Model Saved!
====== 89 epoch of 150 ======

====== 100 Step of 196 ======
Train Acc : 0.6525758044554455
Train Loss : 0.003563185688108206

Valid Acc : 0.6447
Valid Loss : 0.00403862027451396
====== 90 epoch of 150 ======

====== 100 Step of 196 ======
Train Acc : 0.6546256188118812
Train Loss : 0.003948096185922623

Valid Acc : 0.6511
Valid Loss : 0.004012542776763439
Model Saved!
====== 91 epoch of 150 ======

====== 100 Step of 196 ======
Train Acc : 0.6521116955445545
Train Loss : 0.0035654122475534678

Valid Acc : 0.6498
Valid Loss : 0.004022913984954357
====== 92 epoch of 150 ======

====== 100 Step of 196 ======
Train Acc : 0.6490176361386139
Train Loss : 0.003945720847696066

Valid Acc : 0.6482
Valid Loss : 0.00401198910549283
====== 93 epoch of 150 ======

====== 100 Step of 196 ======
Train Acc : 0.6543935643564357
Train Loss : 0.003948467783629894

Valid Acc : 0.6459
Valid Loss : 0.004012903664261103
====== 94 epoch of 150 ======

====== 100 Step of 196 ======
Train Acc : 0.6554378094059405
Train Loss : 0.003765730420127511

Valid Acc : 0.6505
Valid Loss : 0.003997499123215675
====== 95 epoch of 150 ======

====== 100 Step of 196 ======
Train Acc : 0.6556311881188119
Train Loss : 0.003761473810300231

Valid Acc : 0.6527
Valid Loss : 0.003960537724196911
Model Saved!
====== 96 epoch of 150 ======

====== 100 Step of 196 ======
Train Acc : 0.6631729579207921
Train Loss : 0.0035742309410125017

Valid Acc : 0.6475
Valid Loss : 0.004023096524178982
====== 97 epoch of 150 ======

====== 100 Step of 196 ======
Train Acc : 0.6603496287128713
Train Loss : 0.0037871384993195534

Valid Acc : 0.6512
Valid Loss : 0.003974494524300098
====== 98 epoch of 150 ======

====== 100 Step of 196 ======
Train Acc : 0.6573715965346535
Train Loss : 0.003527657827362418

Valid Acc : 0.651
Valid Loss : 0.00398646853864193
====== 99 epoch of 150 ======

====== 100 Step of 196 ======
Train Acc : 0.6622060643564357
Train Loss : 0.003659796668216586

Valid Acc : 0.6494
Valid Loss : 0.003990377299487591
====== 100 epoch of 150 ======

====== 100 Step of 196 ======
Train Acc : 0.6639464727722773
Train Loss : 0.0037909604143351316

Valid Acc : 0.6476
Valid Loss : 0.0040147206746041775
====== 101 epoch of 150 ======

====== 100 Step of 196 ======
Train Acc : 0.6700572400990099
Train Loss : 0.003550433786585927

Valid Acc : 0.6592
Valid Loss : 0.003911843989044428
Model Saved!
====== 102 epoch of 150 ======

====== 100 Step of 196 ======
Train Acc : 0.669631806930693
Train Loss : 0.0033754301257431507

Valid Acc : 0.6581
Valid Loss : 0.003915513399988413
====== 103 epoch of 150 ======

====== 100 Step of 196 ======
Train Acc : 0.6692450495049505
Train Loss : 0.0030259613413363695

Valid Acc : 0.6582
Valid Loss : 0.0039027670864015818
====== 104 epoch of 150 ======

====== 100 Step of 196 ======
Train Acc : 0.6743889232673267
Train Loss : 0.0034049726091325283

Valid Acc : 0.6592
Valid Loss : 0.003908165264874697
====== 105 epoch of 150 ======

====== 100 Step of 196 ======
Train Acc : 0.6716816212871287
Train Loss : 0.0037137495819479227

Valid Acc : 0.6584
Valid Loss : 0.003908301237970591
====== 106 epoch of 150 ======

====== 100 Step of 196 ======
Train Acc : 0.6731126237623762
Train Loss : 0.0037919869646430016

Valid Acc : 0.6597
Valid Loss : 0.003915918525308371
Model Saved!
====== 107 epoch of 150 ======

====== 100 Step of 196 ======
Train Acc : 0.674737004950495
Train Loss : 0.003298552706837654

Valid Acc : 0.6615
Valid Loss : 0.003906561061739922
Model Saved!
====== 108 epoch of 150 ======

====== 100 Step of 196 ======
Train Acc : 0.675471844059406
Train Loss : 0.0036202704068273306

Valid Acc : 0.6621
Valid Loss : 0.003902318188920617
Model Saved!
====== 109 epoch of 150 ======

====== 100 Step of 196 ======
Train Acc : 0.6746209777227723
Train Loss : 0.003515171818435192

Valid Acc : 0.6606
Valid Loss : 0.003911583684384823
====== 110 epoch of 150 ======

====== 100 Step of 196 ======
Train Acc : 0.6749303836633663
Train Loss : 0.00355852791108191

Valid Acc : 0.6584
Valid Loss : 0.003916741348803043
====== 111 epoch of 150 ======

====== 100 Step of 196 ======
Train Acc : 0.6731899752475248
Train Loss : 0.003364144591614604

Valid Acc : 0.6631
Valid Loss : 0.003908922895789146
Model Saved!
====== 112 epoch of 150 ======

====== 100 Step of 196 ======
Train Acc : 0.6769415222772277
Train Loss : 0.003527566324919462

Valid Acc : 0.6615
Valid Loss : 0.003895202185958624
====== 113 epoch of 150 ======

====== 100 Step of 196 ======
Train Acc : 0.6749303836633663
Train Loss : 0.0033686605747789145

Valid Acc : 0.6597
Valid Loss : 0.003904646961018443
====== 114 epoch of 150 ======

====== 100 Step of 196 ======
Train Acc : 0.6708694306930693
Train Loss : 0.0035106351133435965

Valid Acc : 0.661
Valid Loss : 0.003911688923835754
====== 115 epoch of 150 ======

====== 100 Step of 196 ======
Train Acc : 0.6725711633663366
Train Loss : 0.003921669442206621

Valid Acc : 0.6584
Valid Loss : 0.003911677282303572
====== 116 epoch of 150 ======

====== 100 Step of 196 ======
Train Acc : 0.6762453589108911
Train Loss : 0.0033587703946977854

Valid Acc : 0.6643
Valid Loss : 0.0038983430713415146
Model Saved!
====== 117 epoch of 150 ======

====== 100 Step of 196 ======
Train Acc : 0.6782951732673267
Train Loss : 0.003386683529242873

Valid Acc : 0.6617
Valid Loss : 0.003907753620296717
====== 118 epoch of 150 ======

====== 100 Step of 196 ======
Train Acc : 0.6754331683168316
Train Loss : 0.003541014390066266

Valid Acc : 0.66
Valid Loss : 0.00391329824924469
====== 119 epoch of 150 ======

====== 100 Step of 196 ======
Train Acc : 0.6727258663366337
Train Loss : 0.0036598893348127604

Valid Acc : 0.6586
Valid Loss : 0.003906035562977195
====== 120 epoch of 150 ======

====== 100 Step of 196 ======
Train Acc : 0.6740021658415841
Train Loss : 0.003863161662593484

Valid Acc : 0.659
Valid Loss : 0.003931604325771332
====== 121 epoch of 150 ======

====== 100 Step of 196 ======
Train Acc : 0.6766321163366337
Train Loss : 0.003531367750838399

Valid Acc : 0.6553
Valid Loss : 0.004001830704510212
====== 122 epoch of 150 ======

====== 100 Step of 196 ======
Train Acc : 0.6746983292079208
Train Loss : 0.0034809333737939596

Valid Acc : 0.659
Valid Loss : 0.003930137027055025
====== 123 epoch of 150 ======

====== 100 Step of 196 ======
Train Acc : 0.6737701113861386
Train Loss : 0.003898352850228548

Valid Acc : 0.6592
Valid Loss : 0.0038973980117589235
====== 124 epoch of 150 ======

====== 100 Step of 196 ======
Train Acc : 0.6755105198019802
Train Loss : 0.0035721627064049244

Valid Acc : 0.6572
Valid Loss : 0.003956486936658621
====== 125 epoch of 150 ======

====== 100 Step of 196 ======
Train Acc : 0.6757425742574258
Train Loss : 0.0035438670311123133

Valid Acc : 0.6599
Valid Loss : 0.003985825460404158
====== 126 epoch of 150 ======

====== 100 Step of 196 ======
Train Acc : 0.6755105198019802
Train Loss : 0.003732514102011919

Valid Acc : 0.6581
Valid Loss : 0.003933786414563656
====== 127 epoch of 150 ======

====== 100 Step of 196 ======
Train Acc : 0.6808090965346535
Train Loss : 0.003730003722012043

Valid Acc : 0.6587
Valid Loss : 0.003914903849363327
====== 128 epoch of 150 ======

====== 100 Step of 196 ======
Train Acc : 0.6796875
Train Loss : 0.0039953673258423805

Valid Acc : 0.6604
Valid Loss : 0.003980995621532202
====== 129 epoch of 150 ======

====== 100 Step of 196 ======
Train Acc : 0.6822787747524752
Train Loss : 0.0035015540197491646

Valid Acc : 0.6578
Valid Loss : 0.003989478573203087
====== 130 epoch of 150 ======

====== 100 Step of 196 ======
Train Acc : 0.6786045792079208
Train Loss : 0.0030320484656840563

Valid Acc : 0.6628
Valid Loss : 0.003895011032000184
====== 131 epoch of 150 ======

====== 100 Step of 196 ======
Train Acc : 0.6770575495049505
Train Loss : 0.0038490048609673977

Valid Acc : 0.6597
Valid Loss : 0.003919239621609449
====== 132 epoch of 150 ======

====== 100 Step of 196 ======
Train Acc : 0.682549504950495
Train Loss : 0.0035037463530898094

Valid Acc : 0.6585
Valid Loss : 0.004018826875835657
====== 133 epoch of 150 ======

====== 100 Step of 196 ======
Train Acc : 0.6726485148514851
Train Loss : 0.0037908379454165697

Valid Acc : 0.662
Valid Loss : 0.003953678999096155
====== 134 epoch of 150 ======

====== 100 Step of 196 ======
Train Acc : 0.6734220297029703
Train Loss : 0.003658976638689637

Valid Acc : 0.6631
Valid Loss : 0.0039138817228376865
====== 135 epoch of 150 ======

====== 100 Step of 196 ======
Train Acc : 0.6753558168316832
Train Loss : 0.00355584267526865

Valid Acc : 0.6623
Valid Loss : 0.003933803644031286
====== 136 epoch of 150 ======

====== 100 Step of 196 ======
Train Acc : 0.6760519801980198
Train Loss : 0.003159963060170412

Valid Acc : 0.663
Valid Loss : 0.0039046811871230602
====== 137 epoch of 150 ======

====== 100 Step of 196 ======
Train Acc : 0.6752784653465347
Train Loss : 0.0033676307648420334

Valid Acc : 0.661
Valid Loss : 0.003905310295522213
====== 138 epoch of 150 ======

====== 100 Step of 196 ======
Train Acc : 0.6818533415841584
Train Loss : 0.0035868538543581963

Valid Acc : 0.6615
Valid Loss : 0.003931636922061443
====== 139 epoch of 150 ======

====== 100 Step of 196 ======
Train Acc : 0.6795327970297029
Train Loss : 0.003330894745886326

Valid Acc : 0.6601
Valid Loss : 0.003934402950108051
====== 140 epoch of 150 ======

====== 100 Step of 196 ======
Train Acc : 0.679378094059406
Train Loss : 0.003425269853323698

Valid Acc : 0.6632
Valid Loss : 0.0039361449889838696
====== 141 epoch of 150 ======

====== 100 Step of 196 ======
Train Acc : 0.6801129331683168
Train Loss : 0.003225036198273301

Valid Acc : 0.6609
Valid Loss : 0.003951864317059517
====== 142 epoch of 150 ======

====== 100 Step of 196 ======
Train Acc : 0.680731745049505
Train Loss : 0.0036385152488946915

Valid Acc : 0.6603
Valid Loss : 0.004027360584586859
====== 143 epoch of 150 ======

====== 100 Step of 196 ======
Train Acc : 0.6761293316831684
Train Loss : 0.003321906318888068

Valid Acc : 0.6628
Valid Loss : 0.003922911360859871
====== 144 epoch of 150 ======

====== 100 Step of 196 ======
Train Acc : 0.6789139851485149
Train Loss : 0.0033753339666873217

Valid Acc : 0.6601
Valid Loss : 0.003975407686084509
====== 145 epoch of 150 ======

====== 100 Step of 196 ======
Train Acc : 0.6810798267326733
Train Loss : 0.0038146674633026123

Valid Acc : 0.6617
Valid Loss : 0.003924024291336536
====== 146 epoch of 150 ======

====== 100 Step of 196 ======
Train Acc : 0.6798422029702971
Train Loss : 0.0033508252818137407

Valid Acc : 0.6607
Valid Loss : 0.0040771253407001495
====== 147 epoch of 150 ======

====== 100 Step of 196 ======
Train Acc : 0.6827428836633663
Train Loss : 0.0038049882277846336

Valid Acc : 0.6581
Valid Loss : 0.0043164826929569244
====== 148 epoch of 150 ======

====== 100 Step of 196 ======
Train Acc : 0.6815052599009901
Train Loss : 0.0034986515529453754

Valid Acc : 0.6635
Valid Loss : 0.003913728054612875
====== 149 epoch of 150 ======

====== 100 Step of 196 ======
Train Acc : 0.6850634282178217
Train Loss : 0.003206611378118396

Valid Acc : 0.6608
Valid Loss : 0.003978990018367767
====== 150 epoch of 150 ======

====== 100 Step of 196 ======
Train Acc : 0.6819693688118812
Train Loss : 0.0035180198028683662

Valid Acc : 0.6625
Valid Loss : 0.004045179113745689
