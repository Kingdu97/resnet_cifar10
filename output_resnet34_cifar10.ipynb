====== 1 epoch of 150 ======

====== 100 Step of 196 ======
Train Acc : 0.15501237623762376
Train Loss : 0.010221181437373161

Valid Acc : 0.2449
Valid Loss : 0.008051269687712193
Model Saved!
====== 2 epoch of 150 ======

====== 100 Step of 196 ======
Train Acc : 0.27498452970297027
Train Loss : 0.007613406982272863

Valid Acc : 0.3205
Valid Loss : 0.007113758474588394
Model Saved!
====== 3 epoch of 150 ======

====== 100 Step of 196 ======
Train Acc : 0.32185952970297027
Train Loss : 0.0071162451058626175

Valid Acc : 0.4112
Valid Loss : 0.006350610870867968
Model Saved!
====== 4 epoch of 150 ======

====== 100 Step of 196 ======
Train Acc : 0.38648669554455445
Train Loss : 0.0064847772009670734

Valid Acc : 0.4177
Valid Loss : 0.006346744950860739
Model Saved!
====== 5 epoch of 150 ======

====== 100 Step of 196 ======
Train Acc : 0.4238861386138614
Train Loss : 0.006157113239169121

Valid Acc : 0.4736
Valid Loss : 0.005654388573020697
Model Saved!
====== 6 epoch of 150 ======

====== 100 Step of 196 ======
Train Acc : 0.4432240099009901
Train Loss : 0.005660134367644787

Valid Acc : 0.4673
Valid Loss : 0.005863390862941742
====== 7 epoch of 150 ======

====== 100 Step of 196 ======
Train Acc : 0.47215346534653463
Train Loss : 0.0058372230269014835

Valid Acc : 0.5238
Valid Loss : 0.005292330402880907
Model Saved!
====== 8 epoch of 150 ======

====== 100 Step of 196 ======
Train Acc : 0.4965578589108911
Train Loss : 0.005112948827445507

Valid Acc : 0.4904
Valid Loss : 0.0056833610869944096
====== 9 epoch of 150 ======

====== 100 Step of 196 ======
Train Acc : 0.5202660891089109
Train Loss : 0.0046127173118293285

Valid Acc : 0.535
Valid Loss : 0.005293490365147591
Model Saved!
====== 10 epoch of 150 ======

====== 100 Step of 196 ======
Train Acc : 0.5416537747524752
Train Loss : 0.004662811756134033

Valid Acc : 0.5247
Valid Loss : 0.0052549331448972225
====== 11 epoch of 150 ======

====== 100 Step of 196 ======
Train Acc : 0.5613397277227723
Train Loss : 0.004775216802954674

Valid Acc : 0.4919
Valid Loss : 0.005963040050119162
====== 12 epoch of 150 ======

====== 100 Step of 196 ======
Train Acc : 0.5754950495049505
Train Loss : 0.004749076906591654

Valid Acc : 0.5605
Valid Loss : 0.004941094201058149
Model Saved!
====== 13 epoch of 150 ======

====== 100 Step of 196 ======
Train Acc : 0.5905399133663366
Train Loss : 0.0042366827838122845

Valid Acc : 0.5693
Valid Loss : 0.00477093830704689
Model Saved!
====== 14 epoch of 150 ======

====== 100 Step of 196 ======
Train Acc : 0.6103032178217822
Train Loss : 0.004036765545606613

Valid Acc : 0.4539
Valid Loss : 0.007472940720617771
====== 15 epoch of 150 ======

====== 100 Step of 196 ======
Train Acc : 0.6232595915841584
Train Loss : 0.003976881969720125

Valid Acc : 0.6159
Valid Loss : 0.004617451690137386
Model Saved!
====== 16 epoch of 150 ======

====== 100 Step of 196 ======
Train Acc : 0.6369894801980198
Train Loss : 0.003982391208410263

Valid Acc : 0.6358
Valid Loss : 0.004036055877804756
Model Saved!
====== 17 epoch of 150 ======

====== 100 Step of 196 ======
Train Acc : 0.65234375
Train Loss : 0.0035905500408262014

Valid Acc : 0.6358
Valid Loss : 0.004148175474256277
====== 18 epoch of 150 ======

====== 100 Step of 196 ======
Train Acc : 0.6633663366336634
Train Loss : 0.00431876489892602

Valid Acc : 0.6006
Valid Loss : 0.004916726611554623
====== 19 epoch of 150 ======

====== 100 Step of 196 ======
Train Acc : 0.6778697400990099
Train Loss : 0.0037343574222177267

Valid Acc : 0.6624
Valid Loss : 0.003833509748801589
Model Saved!
====== 20 epoch of 150 ======

====== 100 Step of 196 ======
Train Acc : 0.6885829207920792
Train Loss : 0.0033060789573937654

Valid Acc : 0.6789
Valid Loss : 0.003702692687511444
Model Saved!
====== 21 epoch of 150 ======

====== 100 Step of 196 ======
Train Acc : 0.6951191212871287
Train Loss : 0.003534238087013364

Valid Acc : 0.6672
Valid Loss : 0.004016585648059845
====== 22 epoch of 150 ======

====== 100 Step of 196 ======
Train Acc : 0.7025448638613861
Train Loss : 0.0032410677522420883

Valid Acc : 0.6807
Valid Loss : 0.003639575093984604
Model Saved!
====== 23 epoch of 150 ======

====== 100 Step of 196 ======
Train Acc : 0.7158493193069307
Train Loss : 0.0035532487090677023

Valid Acc : 0.6837
Valid Loss : 0.003632438601925969
Model Saved!
====== 24 epoch of 150 ======

====== 100 Step of 196 ======
Train Acc : 0.7201423267326733
Train Loss : 0.0031004096381366253

Valid Acc : 0.7231
Valid Loss : 0.0032313098199665546
Model Saved!
====== 25 epoch of 150 ======

====== 100 Step of 196 ======
Train Acc : 0.7327506188118812
Train Loss : 0.0025980069767683744

Valid Acc : 0.7019
Valid Loss : 0.0035516901407390833
====== 26 epoch of 150 ======

====== 100 Step of 196 ======
Train Acc : 0.7365408415841584
Train Loss : 0.0029096815269440413

Valid Acc : 0.6974
Valid Loss : 0.0034587299451231956
====== 27 epoch of 150 ======

====== 100 Step of 196 ======
Train Acc : 0.7430383663366337
Train Loss : 0.002454115077853203

Valid Acc : 0.7301
Valid Loss : 0.003137516789138317
Model Saved!
====== 28 epoch of 150 ======

====== 100 Step of 196 ======
Train Acc : 0.7485689975247525
Train Loss : 0.0030405872967094183

Valid Acc : 0.7345
Valid Loss : 0.0030820313841104507
Model Saved!
====== 29 epoch of 150 ======

====== 100 Step of 196 ======
Train Acc : 0.7550665222772277
Train Loss : 0.002872641896829009

Valid Acc : 0.7225
Valid Loss : 0.0033302505034953356
====== 30 epoch of 150 ======

====== 100 Step of 196 ======
Train Acc : 0.7576191212871287
Train Loss : 0.0032483618706464767

Valid Acc : 0.706
Valid Loss : 0.003475240897387266
====== 31 epoch of 150 ======

====== 100 Step of 196 ======
Train Acc : 0.7540996287128713
Train Loss : 0.003082272130995989

Valid Acc : 0.7187
Valid Loss : 0.003241675440222025
====== 32 epoch of 150 ======

====== 100 Step of 196 ======
Train Acc : 0.7610225866336634
Train Loss : 0.002813085913658142

Valid Acc : 0.7076
Valid Loss : 0.0036908513866364956
====== 33 epoch of 150 ======

====== 100 Step of 196 ======
Train Acc : 0.7729733910891089
Train Loss : 0.002443792996928096

Valid Acc : 0.7386
Valid Loss : 0.003031262196600437
Model Saved!
====== 34 epoch of 150 ======

====== 100 Step of 196 ======
Train Acc : 0.7827970297029703
Train Loss : 0.0019272573990747333

Valid Acc : 0.6976
Valid Loss : 0.0035226261243224144
====== 35 epoch of 150 ======

====== 100 Step of 196 ======
Train Acc : 0.7739789603960396
Train Loss : 0.0023850342258810997

Valid Acc : 0.7478
Valid Loss : 0.002982390346005559
Model Saved!
====== 36 epoch of 150 ======

====== 100 Step of 196 ======
Train Acc : 0.7895266089108911
Train Loss : 0.0022255154326558113

Valid Acc : 0.7481
Valid Loss : 0.0029101353138685226
Model Saved!
====== 37 epoch of 150 ======

====== 100 Step of 196 ======
Train Acc : 0.7869353341584159
Train Loss : 0.002027977490797639

Valid Acc : 0.7559
Valid Loss : 0.002907791640609503
Model Saved!
====== 38 epoch of 150 ======

====== 100 Step of 196 ======
Train Acc : 0.7956373762376238
Train Loss : 0.002187853679060936

Valid Acc : 0.7565
Valid Loss : 0.0028724935837090015
Model Saved!
====== 39 epoch of 150 ======

====== 100 Step of 196 ======
Train Acc : 0.7992728960396039
Train Loss : 0.0019093920709565282

Valid Acc : 0.7827
Valid Loss : 0.002630217932164669
Model Saved!
====== 40 epoch of 150 ======

====== 100 Step of 196 ======
Train Acc : 0.8062345297029703
Train Loss : 0.0024600818287581205

Valid Acc : 0.7656
Valid Loss : 0.002750645624473691
====== 41 epoch of 150 ======

====== 100 Step of 196 ======
Train Acc : 0.8060798267326733
Train Loss : 0.0018780608661472797

Valid Acc : 0.7233
Valid Loss : 0.0031694318167865276
====== 42 epoch of 150 ======

====== 100 Step of 196 ======
Train Acc : 0.8073561262376238
Train Loss : 0.0021524857729673386

Valid Acc : 0.7638
Valid Loss : 0.0028806542977690697
====== 43 epoch of 150 ======

====== 100 Step of 196 ======
Train Acc : 0.8105275371287128
Train Loss : 0.002480542054399848

Valid Acc : 0.7589
Valid Loss : 0.0028135208413004875
====== 44 epoch of 150 ======

====== 100 Step of 196 ======
Train Acc : 0.819113551980198
Train Loss : 0.0025208313018083572

Valid Acc : 0.7367
Valid Loss : 0.00351524306461215
====== 45 epoch of 150 ======

====== 100 Step of 196 ======
Train Acc : 0.8203125
Train Loss : 0.002138505456969142

Valid Acc : 0.7591
Valid Loss : 0.002822195878252387
====== 46 epoch of 150 ======

====== 100 Step of 196 ======
Train Acc : 0.8225170173267327
Train Loss : 0.001730128307826817

Valid Acc : 0.7656
Valid Loss : 0.002702536527067423
====== 47 epoch of 150 ======

====== 100 Step of 196 ======
Train Acc : 0.8232131806930693
Train Loss : 0.0016704064328223467

Valid Acc : 0.7573
Valid Loss : 0.002956691663712263
====== 48 epoch of 150 ======

====== 100 Step of 196 ======
Train Acc : 0.8328821163366337
Train Loss : 0.0019001340260729194

Valid Acc : 0.7412
Valid Loss : 0.0030930712819099426
====== 49 epoch of 150 ======

====== 100 Step of 196 ======
Train Acc : 0.8308709777227723
Train Loss : 0.0017908295849338174

Valid Acc : 0.7497
Valid Loss : 0.0029759046155959368
====== 50 epoch of 150 ======

====== 100 Step of 196 ======
Train Acc : 0.8258431311881188
Train Loss : 0.0022013087291270494

Valid Acc : 0.7759
Valid Loss : 0.00258504506200552
====== 51 epoch of 150 ======

====== 100 Step of 196 ======
Train Acc : 0.8533415841584159
Train Loss : 0.0015841692220419645

Valid Acc : 0.8116
Valid Loss : 0.0022306449245661497
Model Saved!
====== 52 epoch of 150 ======

====== 100 Step of 196 ======
Train Acc : 0.8710550742574258
Train Loss : 0.001468701520934701

Valid Acc : 0.8159
Valid Loss : 0.0021590960677713156
Model Saved!
====== 53 epoch of 150 ======

====== 100 Step of 196 ======
Train Acc : 0.8801438737623762
Train Loss : 0.0011641827877610922

Valid Acc : 0.8217
Valid Loss : 0.002146154409274459
Model Saved!
====== 54 epoch of 150 ======

====== 100 Step of 196 ======
Train Acc : 0.884475556930693
Train Loss : 0.0011847048299387097

Valid Acc : 0.8246
Valid Loss : 0.002136507537215948
Model Saved!
====== 55 epoch of 150 ======

====== 100 Step of 196 ======
Train Acc : 0.8858292079207921
Train Loss : 0.001214127172715962

Valid Acc : 0.8211
Valid Loss : 0.0021633014548569918
====== 56 epoch of 150 ======

====== 100 Step of 196 ======
Train Acc : 0.8875309405940595
Train Loss : 0.0013065420789644122

Valid Acc : 0.822
Valid Loss : 0.0021749187726527452
====== 57 epoch of 150 ======

====== 100 Step of 196 ======
Train Acc : 0.8908570544554455
Train Loss : 0.0010411045514047146

Valid Acc : 0.8208
Valid Loss : 0.0021745306439697742
====== 58 epoch of 150 ======

====== 100 Step of 196 ======
Train Acc : 0.8859839108910891
Train Loss : 0.001045788754709065

Valid Acc : 0.8232
Valid Loss : 0.0021740931551903486
====== 59 epoch of 150 ======

====== 100 Step of 196 ======
Train Acc : 0.895730198019802
Train Loss : 0.0013001940678805113

Valid Acc : 0.8222
Valid Loss : 0.002193738706409931
====== 60 epoch of 150 ======

====== 100 Step of 196 ======
Train Acc : 0.89453125
Train Loss : 0.0011556566460058093

Valid Acc : 0.8258
Valid Loss : 0.002181953750550747
Model Saved!
====== 61 epoch of 150 ======

====== 100 Step of 196 ======
Train Acc : 0.8970451732673267
Train Loss : 0.0012943829642608762

Valid Acc : 0.8251
Valid Loss : 0.0021755595225840807
====== 62 epoch of 150 ======

====== 100 Step of 196 ======
Train Acc : 0.8977026608910891
Train Loss : 0.0009871604852378368

Valid Acc : 0.8259
Valid Loss : 0.0022056722082197666
Model Saved!
====== 63 epoch of 150 ======

====== 100 Step of 196 ======
Train Acc : 0.9038134282178217
Train Loss : 0.0010943326633423567

Valid Acc : 0.8279
Valid Loss : 0.0021518447902053595
Model Saved!
====== 64 epoch of 150 ======

====== 100 Step of 196 ======
Train Acc : 0.9056311881188119
Train Loss : 0.0009278106153942645

Valid Acc : 0.8268
Valid Loss : 0.0021939221769571304
====== 65 epoch of 150 ======

====== 100 Step of 196 ======
Train Acc : 0.9032719678217822
Train Loss : 0.0009822881547734141

Valid Acc : 0.8277
Valid Loss : 0.002187103498727083
====== 66 epoch of 150 ======

====== 100 Step of 196 ======
Train Acc : 0.9080677599009901
Train Loss : 0.0010356791317462921

Valid Acc : 0.8224
Valid Loss : 0.002258769003674388
====== 67 epoch of 150 ======

====== 100 Step of 196 ======
Train Acc : 0.9060179455445545
Train Loss : 0.0009139972389675677

Valid Acc : 0.82
Valid Loss : 0.0022868099622428417
====== 68 epoch of 150 ======

====== 100 Step of 196 ======
Train Acc : 0.9102722772277227
Train Loss : 0.0006633838056586683

Valid Acc : 0.8232
Valid Loss : 0.002293699188157916
====== 69 epoch of 150 ======

====== 100 Step of 196 ======
Train Acc : 0.9077196782178217
Train Loss : 0.0010213835630565882

Valid Acc : 0.823
Valid Loss : 0.0022906751837581396
====== 70 epoch of 150 ======

====== 100 Step of 196 ======
Train Acc : 0.9119353341584159
Train Loss : 0.0009815419325605035

Valid Acc : 0.8235
Valid Loss : 0.0023193047381937504
====== 71 epoch of 150 ======

====== 100 Step of 196 ======
Train Acc : 0.9119353341584159
Train Loss : 0.0010089993011206388

Valid Acc : 0.8259
Valid Loss : 0.002304432913661003
====== 72 epoch of 150 ======

====== 100 Step of 196 ======
Train Acc : 0.9142172029702971
Train Loss : 0.0009202021756209433

Valid Acc : 0.824
Valid Loss : 0.0023515974171459675
====== 73 epoch of 150 ======

====== 100 Step of 196 ======
Train Acc : 0.916615099009901
Train Loss : 0.0007841530023142695

Valid Acc : 0.8221
Valid Loss : 0.0023413337767124176
====== 74 epoch of 150 ======

====== 100 Step of 196 ======
Train Acc : 0.9189743193069307
Train Loss : 0.0007598365773446858

Valid Acc : 0.8247
Valid Loss : 0.002328520407900214
====== 75 epoch of 150 ======

====== 100 Step of 196 ======
Train Acc : 0.9186262376237624
Train Loss : 0.0008685179054737091

Valid Acc : 0.8228
Valid Loss : 0.0024320613592863083
====== 76 epoch of 150 ======

====== 100 Step of 196 ======
Train Acc : 0.9180847772277227
Train Loss : 0.0008649709052406251

Valid Acc : 0.8272
Valid Loss : 0.0023433503229171038
====== 77 epoch of 150 ======

====== 100 Step of 196 ======
Train Acc : 0.921875
Train Loss : 0.0008252557599917054

Valid Acc : 0.8218
Valid Loss : 0.002423325087875128
====== 78 epoch of 150 ======

====== 100 Step of 196 ======
Train Acc : 0.9211788366336634
Train Loss : 0.0008612647652626038

Valid Acc : 0.818
Valid Loss : 0.0025228140875697136
====== 79 epoch of 150 ======

====== 100 Step of 196 ======
Train Acc : 0.9223004331683168
Train Loss : 0.0007870349218137562

Valid Acc : 0.8247
Valid Loss : 0.002407877007499337
====== 80 epoch of 150 ======

====== 100 Step of 196 ======
Train Acc : 0.9224938118811881
Train Loss : 0.0007665930315852165

Valid Acc : 0.8248
Valid Loss : 0.0023909788578748703
====== 81 epoch of 150 ======

====== 100 Step of 196 ======
Train Acc : 0.9224938118811881
Train Loss : 0.0007060379139147699

Valid Acc : 0.8234
Valid Loss : 0.0023993649519979954
====== 82 epoch of 150 ======

====== 100 Step of 196 ======
Train Acc : 0.9289526608910891
Train Loss : 0.000719162286259234

Valid Acc : 0.8179
Valid Loss : 0.002518514869734645
====== 83 epoch of 150 ======

====== 100 Step of 196 ======
Train Acc : 0.9279470915841584
Train Loss : 0.000772961531765759

Valid Acc : 0.8227
Valid Loss : 0.0024462963920086622
====== 84 epoch of 150 ======

====== 100 Step of 196 ======
Train Acc : 0.9308090965346535
Train Loss : 0.0009287664433941245

Valid Acc : 0.8239
Valid Loss : 0.0024411887861788273
====== 85 epoch of 150 ======

====== 100 Step of 196 ======
Train Acc : 0.9315052599009901
Train Loss : 0.0007966870325617492

Valid Acc : 0.8237
Valid Loss : 0.0024531930685043335
====== 86 epoch of 150 ======

====== 100 Step of 196 ======
Train Acc : 0.9304223391089109
Train Loss : 0.0007429029792547226

Valid Acc : 0.824
Valid Loss : 0.002515708329156041
====== 87 epoch of 150 ======

====== 100 Step of 196 ======
Train Acc : 0.9334003712871287
Train Loss : 0.0008959982660599053

Valid Acc : 0.8206
Valid Loss : 0.0025312090292572975
====== 88 epoch of 150 ======

====== 100 Step of 196 ======
Train Acc : 0.9305770420792079
Train Loss : 0.0008230094681493938

Valid Acc : 0.8214
Valid Loss : 0.00254093948751688
====== 89 epoch of 150 ======

====== 100 Step of 196 ======
Train Acc : 0.9335163985148515
Train Loss : 0.0007741869194433093

Valid Acc : 0.8216
Valid Loss : 0.0025762678124010563
====== 90 epoch of 150 ======

====== 100 Step of 196 ======
Train Acc : 0.9338258044554455
Train Loss : 0.0006821471615694463

Valid Acc : 0.8203
Valid Loss : 0.002593730576336384
====== 91 epoch of 150 ======

====== 100 Step of 196 ======
Train Acc : 0.9358756188118812
Train Loss : 0.000887226895429194

Valid Acc : 0.8235
Valid Loss : 0.002556036226451397
====== 92 epoch of 150 ======

====== 100 Step of 196 ======
Train Acc : 0.9339805074257426
Train Loss : 0.0007989622536115348

Valid Acc : 0.8178
Valid Loss : 0.0026825726963579655
====== 93 epoch of 150 ======

====== 100 Step of 196 ======
Train Acc : 0.9381574876237624
Train Loss : 0.0008867615251801908

Valid Acc : 0.8104
Valid Loss : 0.0027052348013967276
====== 94 epoch of 150 ======

====== 100 Step of 196 ======
Train Acc : 0.9365717821782178
Train Loss : 0.0008644143817946315

Valid Acc : 0.8202
Valid Loss : 0.0026714205741882324
====== 95 epoch of 150 ======

====== 100 Step of 196 ======
Train Acc : 0.9355662128712872
Train Loss : 0.0007846273365430534

Valid Acc : 0.8135
Valid Loss : 0.002706096274778247
====== 96 epoch of 150 ======

====== 100 Step of 196 ======
Train Acc : 0.9395884900990099
Train Loss : 0.0006143970531411469

Valid Acc : 0.8198
Valid Loss : 0.0027021593414247036
====== 97 epoch of 150 ======

====== 100 Step of 196 ======
Train Acc : 0.9369198638613861
Train Loss : 0.0006750627071596682

Valid Acc : 0.8177
Valid Loss : 0.002667259657755494
====== 98 epoch of 150 ======

====== 100 Step of 196 ======
Train Acc : 0.9393951113861386
Train Loss : 0.0005656694411300123

Valid Acc : 0.8198
Valid Loss : 0.002736646682024002
====== 99 epoch of 150 ======

====== 100 Step of 196 ======
Train Acc : 0.9401299504950495
Train Loss : 0.0007012739661149681

Valid Acc : 0.819
Valid Loss : 0.002736446214839816
====== 100 epoch of 150 ======

====== 100 Step of 196 ======
Train Acc : 0.9415609529702971
Train Loss : 0.0009199948399327695

Valid Acc : 0.819
Valid Loss : 0.002798747271299362
====== 101 epoch of 150 ======

====== 100 Step of 196 ======
Train Acc : 0.9456992574257426
Train Loss : 0.0005484208231791854

Valid Acc : 0.8224
Valid Loss : 0.002640773542225361
====== 102 epoch of 150 ======

====== 100 Step of 196 ======
Train Acc : 0.9510751856435643
Train Loss : 0.0005924468277953565

Valid Acc : 0.8219
Valid Loss : 0.002657895674929023
====== 103 epoch of 150 ======

====== 100 Step of 196 ======
Train Acc : 0.9513459158415841
Train Loss : 0.0005539398989640176

Valid Acc : 0.8233
Valid Loss : 0.0026214509271085262
====== 104 epoch of 150 ======

====== 100 Step of 196 ======
Train Acc : 0.9516553217821783
Train Loss : 0.00033803575206547976

Valid Acc : 0.8229
Valid Loss : 0.0026375087909400463
====== 105 epoch of 150 ======

====== 100 Step of 196 ======
Train Acc : 0.9537438118811881
Train Loss : 0.0006438192795030773

Valid Acc : 0.8238
Valid Loss : 0.002631897572427988
====== 106 epoch of 150 ======

====== 100 Step of 196 ======
Train Acc : 0.9535504331683168
Train Loss : 0.00044141078251414

Valid Acc : 0.8229
Valid Loss : 0.0026536087971180677
====== 107 epoch of 150 ======

====== 100 Step of 196 ======
Train Acc : 0.9555228960396039
Train Loss : 0.00048061140114441514

Valid Acc : 0.8239
Valid Loss : 0.00266524706967175
====== 108 epoch of 150 ======

====== 100 Step of 196 ======
Train Acc : 0.9539371905940595
Train Loss : 0.000554602884221822

Valid Acc : 0.8237
Valid Loss : 0.0026679858565330505
====== 109 epoch of 150 ======

====== 100 Step of 196 ======
Train Acc : 0.9559096534653465
Train Loss : 0.0006595533923245966

Valid Acc : 0.8231
Valid Loss : 0.002683720551431179
====== 110 epoch of 150 ======

====== 100 Step of 196 ======
Train Acc : 0.9551748143564357
Train Loss : 0.0005092820501886308

Valid Acc : 0.8262
Valid Loss : 0.00269096321426332
====== 111 epoch of 150 ======

====== 100 Step of 196 ======
Train Acc : 0.9567991955445545
Train Loss : 0.0003790759074036032

Valid Acc : 0.8264
Valid Loss : 0.002725803991779685
====== 112 epoch of 150 ======

====== 100 Step of 196 ======
Train Acc : 0.9576887376237624
Train Loss : 0.0006197492475621402

Valid Acc : 0.8229
Valid Loss : 0.002753999549895525
====== 113 epoch of 150 ======

====== 100 Step of 196 ======
Train Acc : 0.9579207920792079
Train Loss : 0.00032339931931346655

Valid Acc : 0.8241
Valid Loss : 0.002727111568674445
====== 114 epoch of 150 ======

====== 100 Step of 196 ======
Train Acc : 0.9557936262376238
Train Loss : 0.0003912735264748335

Valid Acc : 0.8256
Valid Loss : 0.002758900634944439
====== 115 epoch of 150 ======

====== 100 Step of 196 ======
Train Acc : 0.9593131188118812
Train Loss : 0.000716209935490042

Valid Acc : 0.8256
Valid Loss : 0.002736879512667656
====== 116 epoch of 150 ======

====== 100 Step of 196 ======
Train Acc : 0.9590423886138614
Train Loss : 0.0006176395108923316

Valid Acc : 0.8248
Valid Loss : 0.0027735834009945393
====== 117 epoch of 150 ======

====== 100 Step of 196 ======
Train Acc : 0.9584622524752475
Train Loss : 0.0006513772532343864

Valid Acc : 0.8227
Valid Loss : 0.0027826596051454544
====== 118 epoch of 150 ======

====== 100 Step of 196 ======
Train Acc : 0.9564511138613861
Train Loss : 0.0005499867838807404

Valid Acc : 0.8232
Valid Loss : 0.0027693051379173994
====== 119 epoch of 150 ======

====== 100 Step of 196 ======
Train Acc : 0.9586556311881188
Train Loss : 0.0005221460596658289

Valid Acc : 0.8247
Valid Loss : 0.00278667313978076
====== 120 epoch of 150 ======

====== 100 Step of 196 ======
Train Acc : 0.9599319306930693
Train Loss : 0.0005314986919984221

Valid Acc : 0.8224
Valid Loss : 0.0027995046693831682
====== 121 epoch of 150 ======

====== 100 Step of 196 ======
Train Acc : 0.9556002475247525
Train Loss : 0.00043816794641315937

Valid Acc : 0.8232
Valid Loss : 0.002803772920742631
====== 122 epoch of 150 ======

====== 100 Step of 196 ======
Train Acc : 0.9585009282178217
Train Loss : 0.00044948639697395265

Valid Acc : 0.8258
Valid Loss : 0.0027852642815560102
====== 123 epoch of 150 ======

====== 100 Step of 196 ======
Train Acc : 0.9611308787128713
Train Loss : 0.0004371049872133881

Valid Acc : 0.8249
Valid Loss : 0.0028186135459691286
====== 124 epoch of 150 ======

====== 100 Step of 196 ======
Train Acc : 0.9583075495049505
Train Loss : 0.00036811851896345615

Valid Acc : 0.8242
Valid Loss : 0.0028285947628319263
====== 125 epoch of 150 ======

====== 100 Step of 196 ======
Train Acc : 0.958694306930693
Train Loss : 0.00037889412487857044

Valid Acc : 0.8246
Valid Loss : 0.0028365436010062695
====== 126 epoch of 150 ======

====== 100 Step of 196 ======
Train Acc : 0.9624845297029703
Train Loss : 0.0002621977764647454

Valid Acc : 0.8238
Valid Loss : 0.00281887361779809
====== 127 epoch of 150 ======

====== 100 Step of 196 ======
Train Acc : 0.9598545792079208
Train Loss : 0.000650117639452219

Valid Acc : 0.8245
Valid Loss : 0.002881052205339074
====== 128 epoch of 150 ======

====== 100 Step of 196 ======
Train Acc : 0.9608214727722773
Train Loss : 0.0005110176862217486

Valid Acc : 0.8251
Valid Loss : 0.002855314640328288
====== 129 epoch of 150 ======

====== 100 Step of 196 ======
Train Acc : 0.9620204207920792
Train Loss : 0.0005463057896122336

Valid Acc : 0.826
Valid Loss : 0.002853288082405925
====== 130 epoch of 150 ======

====== 100 Step of 196 ======
Train Acc : 0.9619430693069307
Train Loss : 0.00039222618215717375

Valid Acc : 0.8236
Valid Loss : 0.0028691990301012993
====== 131 epoch of 150 ======

====== 100 Step of 196 ======
Train Acc : 0.9622137995049505
Train Loss : 0.000529903860297054

Valid Acc : 0.8238
Valid Loss : 0.0028683787677437067
====== 132 epoch of 150 ======

====== 100 Step of 196 ======
Train Acc : 0.9642249381188119
Train Loss : 0.00025591961457394063

Valid Acc : 0.8246
Valid Loss : 0.0028748062904924154
====== 133 epoch of 150 ======

====== 100 Step of 196 ======
Train Acc : 0.962136448019802
Train Loss : 0.00044528639409691095

Valid Acc : 0.8234
Valid Loss : 0.0028752931393682957
====== 134 epoch of 150 ======

====== 100 Step of 196 ======
Train Acc : 0.9614789603960396
Train Loss : 0.0003600631607696414

Valid Acc : 0.8243
Valid Loss : 0.0029045988339930773
====== 135 epoch of 150 ======

====== 100 Step of 196 ======
Train Acc : 0.9626779084158416
Train Loss : 0.00035122918779961765

Valid Acc : 0.8236
Valid Loss : 0.0029199293348938227
====== 136 epoch of 150 ======

====== 100 Step of 196 ======
Train Acc : 0.9626392326732673
Train Loss : 0.0004583070403896272

Valid Acc : 0.8243
Valid Loss : 0.002903787652030587
====== 137 epoch of 150 ======

====== 100 Step of 196 ======
Train Acc : 0.9633353960396039
Train Loss : 0.0005065965815447271

Valid Acc : 0.8238
Valid Loss : 0.0028905963990837336
====== 138 epoch of 150 ======

====== 100 Step of 196 ======
Train Acc : 0.9648050742574258
Train Loss : 0.00036651146365329623

Valid Acc : 0.8235
Valid Loss : 0.0029453958850353956
====== 139 epoch of 150 ======

====== 100 Step of 196 ======
Train Acc : 0.9625618811881188
Train Loss : 0.0002606650232337415

Valid Acc : 0.8232
Valid Loss : 0.0029144964646548033
====== 140 epoch of 150 ======

====== 100 Step of 196 ======
Train Acc : 0.9624458539603961
Train Loss : 0.0005201337044127285

Valid Acc : 0.8245
Valid Loss : 0.002916413126513362
====== 141 epoch of 150 ======

====== 100 Step of 196 ======
Train Acc : 0.9638768564356436
Train Loss : 0.00047078917850740254

Valid Acc : 0.8227
Valid Loss : 0.0029400461353361607
====== 142 epoch of 150 ======

====== 100 Step of 196 ======
Train Acc : 0.9649984529702971
Train Loss : 0.00046114559518173337

Valid Acc : 0.8249
Valid Loss : 0.002949436893686652
====== 143 epoch of 150 ======

====== 100 Step of 196 ======
Train Acc : 0.9650758044554455
Train Loss : 0.00047388006350956857

Valid Acc : 0.8244
Valid Loss : 0.0029604341834783554
====== 144 epoch of 150 ======

====== 100 Step of 196 ======
Train Acc : 0.9625232054455446
Train Loss : 0.00033057722612284124

Valid Acc : 0.8232
Valid Loss : 0.0029619354754686356
====== 145 epoch of 150 ======

====== 100 Step of 196 ======
Train Acc : 0.9644956683168316
Train Loss : 0.00043530031689442694

Valid Acc : 0.8244
Valid Loss : 0.0029599752742797136
====== 146 epoch of 150 ======

====== 100 Step of 196 ======
Train Acc : 0.9646890470297029
Train Loss : 0.00028947691316716373

Valid Acc : 0.8247
Valid Loss : 0.0029603526927530766
====== 147 epoch of 150 ======

====== 100 Step of 196 ======
Train Acc : 0.9647277227722773
Train Loss : 0.00035051084705628455

Valid Acc : 0.8251
Valid Loss : 0.0029597394168376923
====== 148 epoch of 150 ======

====== 100 Step of 196 ======
Train Acc : 0.9644183168316832
Train Loss : 0.0004048383852932602

Valid Acc : 0.8258
Valid Loss : 0.0029313196428120136
====== 149 epoch of 150 ======

====== 100 Step of 196 ======
Train Acc : 0.9628712871287128
Train Loss : 0.0003335684596095234

Valid Acc : 0.8256
Valid Loss : 0.0029785707592964172
====== 150 epoch of 150 ======

====== 100 Step of 196 ======
Train Acc : 0.9636834777227723
Train Loss : 0.0003885171317961067

Valid Acc : 0.8248
Valid Loss : 0.0029809477273374796
