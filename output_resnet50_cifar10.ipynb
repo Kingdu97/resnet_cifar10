====== 1 epoch of 150 ======

====== 100 Step of 196 ======
Train Acc : 0.10341893564356436
Train Loss : 0.008959684520959854

Valid Acc : 0.1102
Valid Loss : 0.3238978087902069
Model Saved!
====== 2 epoch of 150 ======

====== 100 Step of 196 ======
Train Acc : 0.11629795792079207
Train Loss : 0.010000648908317089

Valid Acc : 0.1512
Valid Loss : 0.009189140982925892
Model Saved!
====== 3 epoch of 150 ======

====== 100 Step of 196 ======
Train Acc : 0.1538134282178218
Train Loss : 0.008569108322262764

Valid Acc : 0.1688
Valid Loss : 0.008992965333163738
Model Saved!
====== 4 epoch of 150 ======

====== 100 Step of 196 ======
Train Acc : 0.15922803217821782
Train Loss : 0.00874256994575262

Valid Acc : 0.1828
Valid Loss : 0.008806047961115837
Model Saved!
====== 5 epoch of 150 ======

====== 100 Step of 196 ======
Train Acc : 0.17307394801980197
Train Loss : 0.00822744332253933

Valid Acc : 0.1868
Valid Loss : 0.008383078500628471
Model Saved!
====== 6 epoch of 150 ======

====== 100 Step of 196 ======
Train Acc : 0.1943069306930693
Train Loss : 0.008272320963442326

Valid Acc : 0.2328
Valid Loss : 0.008449383080005646
Model Saved!
====== 7 epoch of 150 ======

====== 100 Step of 196 ======
Train Acc : 0.22926980198019803
Train Loss : 0.00767907639965415

Valid Acc : 0.2591
Valid Loss : 0.007791552692651749
Model Saved!
====== 8 epoch of 150 ======

====== 100 Step of 196 ======
Train Acc : 0.2552212252475248
Train Loss : 0.007780394982546568

Valid Acc : 0.2798
Valid Loss : 0.007486398331820965
Model Saved!
====== 9 epoch of 150 ======

====== 100 Step of 196 ======
Train Acc : 0.27823329207920794
Train Loss : 0.007297698874026537

Valid Acc : 0.3004
Valid Loss : 0.007421641144901514
Model Saved!
====== 10 epoch of 150 ======

====== 100 Step of 196 ======
Train Acc : 0.2910349628712871
Train Loss : 0.006943939253687859

Valid Acc : 0.314
Valid Loss : 0.00727832643315196
Model Saved!
====== 11 epoch of 150 ======

====== 100 Step of 196 ======
Train Acc : 0.30035581683168316
Train Loss : 0.0067293839529156685

Valid Acc : 0.3215
Valid Loss : 0.007160545326769352
Model Saved!
====== 12 epoch of 150 ======

====== 100 Step of 196 ======
Train Acc : 0.3191522277227723
Train Loss : 0.007053476758301258

Valid Acc : 0.3512
Valid Loss : 0.006907028146088123
Model Saved!
====== 13 epoch of 150 ======

====== 100 Step of 196 ======
Train Acc : 0.3322246287128713
Train Loss : 0.006704767234623432

Valid Acc : 0.3565
Valid Loss : 0.0067634559236466885
Model Saved!
====== 14 epoch of 150 ======

====== 100 Step of 196 ======
Train Acc : 0.3411587252475248
Train Loss : 0.006535177584737539

Valid Acc : 0.3608
Valid Loss : 0.006733506452292204
Model Saved!
====== 15 epoch of 150 ======

====== 100 Step of 196 ======
Train Acc : 0.35098236386138615
Train Loss : 0.006484177429229021

Valid Acc : 0.3638
Valid Loss : 0.0067868102341890335
Model Saved!
====== 16 epoch of 150 ======

====== 100 Step of 196 ======
Train Acc : 0.35473391089108913
Train Loss : 0.006309421267360449

Valid Acc : 0.3388
Valid Loss : 0.006915648467838764
====== 17 epoch of 150 ======

====== 100 Step of 196 ======
Train Acc : 0.3666460396039604
Train Loss : 0.005878229159861803

Valid Acc : 0.3521
Valid Loss : 0.007051588036119938
====== 18 epoch of 150 ======

====== 100 Step of 196 ======
Train Acc : 0.3767790841584158
Train Loss : 0.006202282849699259

Valid Acc : 0.4085
Valid Loss : 0.00632008770480752
Model Saved!
====== 19 epoch of 150 ======

====== 100 Step of 196 ======
Train Acc : 0.389271349009901
Train Loss : 0.00660946499556303

Valid Acc : 0.4129
Valid Loss : 0.006234574131667614
Model Saved!
====== 20 epoch of 150 ======

====== 100 Step of 196 ======
Train Acc : 0.3972772277227723
Train Loss : 0.006418261677026749

Valid Acc : 0.4201
Valid Loss : 0.006331556010991335
Model Saved!
====== 21 epoch of 150 ======

====== 100 Step of 196 ======
Train Acc : 0.4151840965346535
Train Loss : 0.0059361690655350685

Valid Acc : 0.4201
Valid Loss : 0.006132539827376604
====== 22 epoch of 150 ======

====== 100 Step of 196 ======
Train Acc : 0.4239634900990099
Train Loss : 0.005669245030730963

Valid Acc : 0.4357
Valid Loss : 0.006088369060307741
Model Saved!
====== 23 epoch of 150 ======

====== 100 Step of 196 ======
Train Acc : 0.43982054455445546
Train Loss : 0.006202715449035168

Valid Acc : 0.4516
Valid Loss : 0.005849895533174276
Model Saved!
====== 24 epoch of 150 ======

====== 100 Step of 196 ======
Train Acc : 0.44890934405940597
Train Loss : 0.005315541755408049

Valid Acc : 0.4764
Valid Loss : 0.005644911900162697
Model Saved!
====== 25 epoch of 150 ======

====== 100 Step of 196 ======
Train Acc : 0.4624071782178218
Train Loss : 0.005751470103859901

Valid Acc : 0.481
Valid Loss : 0.005563188344240189
Model Saved!
====== 26 epoch of 150 ======

====== 100 Step of 196 ======
Train Acc : 0.47663985148514854
Train Loss : 0.005086062476038933

Valid Acc : 0.4828
Valid Loss : 0.0056255110539495945
Model Saved!
====== 27 epoch of 150 ======

====== 100 Step of 196 ======
Train Acc : 0.4784962871287129
Train Loss : 0.0055381194688379765

Valid Acc : 0.4803
Valid Loss : 0.005638703238219023
====== 28 epoch of 150 ======

====== 100 Step of 196 ======
Train Acc : 0.4901763613861386
Train Loss : 0.005449356511235237

Valid Acc : 0.51
Valid Loss : 0.005339440889656544
Model Saved!
====== 29 epoch of 150 ======

====== 100 Step of 196 ======
Train Acc : 0.49257425742574257
Train Loss : 0.005273041315376759

Valid Acc : 0.5126
Valid Loss : 0.005315782036632299
Model Saved!
====== 30 epoch of 150 ======

====== 100 Step of 196 ======
Train Acc : 0.5000773514851485
Train Loss : 0.005196680780500174

Valid Acc : 0.5197
Valid Loss : 0.0051756128668785095
Model Saved!
====== 31 epoch of 150 ======

====== 100 Step of 196 ======
Train Acc : 0.5058787128712872
Train Loss : 0.005177308339625597

Valid Acc : 0.5311
Valid Loss : 0.005112707614898682
Model Saved!
====== 32 epoch of 150 ======

====== 100 Step of 196 ======
Train Acc : 0.514426051980198
Train Loss : 0.005255315452814102

Valid Acc : 0.505
Valid Loss : 0.005355608183890581
====== 33 epoch of 150 ======

====== 100 Step of 196 ======
Train Acc : 0.524791150990099
Train Loss : 0.005048305261880159

Valid Acc : 0.5371
Valid Loss : 0.0050390600226819515
Model Saved!
====== 34 epoch of 150 ======

====== 100 Step of 196 ======
Train Acc : 0.5289681311881188
Train Loss : 0.004871859215199947

Valid Acc : 0.5429
Valid Loss : 0.004909374751150608
Model Saved!
====== 35 epoch of 150 ======

====== 100 Step of 196 ======
Train Acc : 0.5374767945544554
Train Loss : 0.0050471206195652485

Valid Acc : 0.5543
Valid Loss : 0.005009714979678392
Model Saved!
====== 36 epoch of 150 ======

====== 100 Step of 196 ======
Train Acc : 0.549118193069307
Train Loss : 0.0049440027214586735

Valid Acc : 0.5502
Valid Loss : 0.004944413900375366
====== 37 epoch of 150 ======

====== 100 Step of 196 ======
Train Acc : 0.5522509282178217
Train Loss : 0.004896434489637613

Valid Acc : 0.5554
Valid Loss : 0.004866481758654118
Model Saved!
====== 38 epoch of 150 ======

====== 100 Step of 196 ======
Train Acc : 0.5655167079207921
Train Loss : 0.004748683422803879

Valid Acc : 0.5586
Valid Loss : 0.005059173330664635
Model Saved!
====== 39 epoch of 150 ======

====== 100 Step of 196 ======
Train Acc : 0.5658647896039604
Train Loss : 0.004584936425089836

Valid Acc : 0.5678
Valid Loss : 0.004846720956265926
Model Saved!
====== 40 epoch of 150 ======

====== 100 Step of 196 ======
Train Acc : 0.5696936881188119
Train Loss : 0.004733270034193993

Valid Acc : 0.5657
Valid Loss : 0.004805660340934992
====== 41 epoch of 150 ======

====== 100 Step of 196 ======
Train Acc : 0.581721844059406
Train Loss : 0.004161848686635494

Valid Acc : 0.586
Valid Loss : 0.004597431048750877
Model Saved!
====== 42 epoch of 150 ======

====== 100 Step of 196 ======
Train Acc : 0.5875232054455446
Train Loss : 0.004736932925879955

Valid Acc : 0.5998
Valid Loss : 0.004456041380763054
Model Saved!
====== 43 epoch of 150 ======

====== 100 Step of 196 ======
Train Acc : 0.5970374381188119
Train Loss : 0.004110357724130154

Valid Acc : 0.5963
Valid Loss : 0.0045317900367081165
====== 44 epoch of 150 ======

====== 100 Step of 196 ======
Train Acc : 0.6056234529702971
Train Loss : 0.004480223637074232

Valid Acc : 0.6101
Valid Loss : 0.004319269675761461
Model Saved!
====== 45 epoch of 150 ======

====== 100 Step of 196 ======
Train Acc : 0.6050046410891089
Train Loss : 0.004738022107630968

Valid Acc : 0.5948
Valid Loss : 0.004566846881061792
====== 46 epoch of 150 ======

====== 100 Step of 196 ======
Train Acc : 0.6167620668316832
Train Loss : 0.00375249981880188

Valid Acc : 0.5955
Valid Loss : 0.0045999460853636265
====== 47 epoch of 150 ======

====== 100 Step of 196 ======
Train Acc : 0.6211324257425742
Train Loss : 0.004345501773059368

Valid Acc : 0.6225
Valid Loss : 0.00426639337092638
Model Saved!
====== 48 epoch of 150 ======

====== 100 Step of 196 ======
Train Acc : 0.6270111386138614
Train Loss : 0.004344780929386616

Valid Acc : 0.6155
Valid Loss : 0.004341995343565941
====== 49 epoch of 150 ======

====== 100 Step of 196 ======
Train Acc : 0.633856745049505
Train Loss : 0.00359809841029346

Valid Acc : 0.6294
Valid Loss : 0.004203260876238346
Model Saved!
====== 50 epoch of 150 ======

====== 100 Step of 196 ======
Train Acc : 0.6424814356435643
Train Loss : 0.0036641638725996017

Valid Acc : 0.6424
Valid Loss : 0.00408389326184988
Model Saved!
====== 51 epoch of 150 ======

====== 100 Step of 196 ======
Train Acc : 0.6694771039603961
Train Loss : 0.0031738088000565767

Valid Acc : 0.6765
Valid Loss : 0.003629812505096197
Model Saved!
====== 52 epoch of 150 ======

====== 100 Step of 196 ======
Train Acc : 0.6869198638613861
Train Loss : 0.0038041186053305864

Valid Acc : 0.6814
Valid Loss : 0.0036122172605246305
Model Saved!
====== 53 epoch of 150 ======

====== 100 Step of 196 ======
Train Acc : 0.6859916460396039
Train Loss : 0.003210211405530572

Valid Acc : 0.6864
Valid Loss : 0.003572195302695036
Model Saved!
====== 54 epoch of 150 ======

====== 100 Step of 196 ======
Train Acc : 0.6860303217821783
Train Loss : 0.003416461404412985

Valid Acc : 0.6872
Valid Loss : 0.0035720195155590773
Model Saved!
====== 55 epoch of 150 ======

====== 100 Step of 196 ======
Train Acc : 0.6926438737623762
Train Loss : 0.003647505771368742

Valid Acc : 0.6872
Valid Loss : 0.003572986926883459
====== 56 epoch of 150 ======

====== 100 Step of 196 ======
Train Acc : 0.6938814975247525
Train Loss : 0.002946225693449378

Valid Acc : 0.6883
Valid Loss : 0.0035650026984512806
Model Saved!
====== 57 epoch of 150 ======

====== 100 Step of 196 ======
Train Acc : 0.6944229579207921
Train Loss : 0.003091823309659958

Valid Acc : 0.6874
Valid Loss : 0.003566674655303359
====== 58 epoch of 150 ======

====== 100 Step of 196 ======
Train Acc : 0.6894337871287128
Train Loss : 0.003104061121121049

Valid Acc : 0.6909
Valid Loss : 0.0035357021261006594
Model Saved!
====== 59 epoch of 150 ======

====== 100 Step of 196 ======
Train Acc : 0.6972076113861386
Train Loss : 0.003155353246256709

Valid Acc : 0.6929
Valid Loss : 0.003511583898216486
Model Saved!
====== 60 epoch of 150 ======

====== 100 Step of 196 ======
Train Acc : 0.6993734529702971
Train Loss : 0.0037214085459709167

Valid Acc : 0.6939
Valid Loss : 0.003491948125883937
Model Saved!
====== 61 epoch of 150 ======

====== 100 Step of 196 ======
Train Acc : 0.7018100247524752
Train Loss : 0.0029612535145133734

Valid Acc : 0.6951
Valid Loss : 0.0034824637696146965
Model Saved!
====== 62 epoch of 150 ======

====== 100 Step of 196 ======
Train Acc : 0.6962793935643564
Train Loss : 0.0031067701056599617

Valid Acc : 0.6967
Valid Loss : 0.0035022501833736897
Model Saved!
====== 63 epoch of 150 ======

====== 100 Step of 196 ======
Train Acc : 0.7029316212871287
Train Loss : 0.0027829480823129416

Valid Acc : 0.6901
Valid Loss : 0.00356111628934741
====== 64 epoch of 150 ======

====== 100 Step of 196 ======
Train Acc : 0.7045173267326733
Train Loss : 0.003006528364494443

Valid Acc : 0.6955
Valid Loss : 0.003451864467933774
====== 65 epoch of 150 ======

====== 100 Step of 196 ======
Train Acc : 0.7030863242574258
Train Loss : 0.0030680878553539515

Valid Acc : 0.6968
Valid Loss : 0.0034574544988572598
Model Saved!
====== 66 epoch of 150 ======

====== 100 Step of 196 ======
Train Acc : 0.7066444925742574
Train Loss : 0.0037866311613470316

Valid Acc : 0.7025
Valid Loss : 0.003424972528591752
Model Saved!
====== 67 epoch of 150 ======

====== 100 Step of 196 ======
Train Acc : 0.7067605198019802
Train Loss : 0.0031730462796986103

Valid Acc : 0.7007
Valid Loss : 0.00348106911405921
====== 68 epoch of 150 ======

====== 100 Step of 196 ======
Train Acc : 0.7102026608910891
Train Loss : 0.0027398457750678062

Valid Acc : 0.6999
Valid Loss : 0.003457728773355484
====== 69 epoch of 150 ======

====== 100 Step of 196 ======
Train Acc : 0.709583849009901
Train Loss : 0.003007351653650403

Valid Acc : 0.7004
Valid Loss : 0.00341424741782248
====== 70 epoch of 150 ======

====== 100 Step of 196 ======
Train Acc : 0.7115176361386139
Train Loss : 0.003331768326461315

Valid Acc : 0.6957
Valid Loss : 0.0035009426064789295
====== 71 epoch of 150 ======

====== 100 Step of 196 ======
Train Acc : 0.7133353960396039
Train Loss : 0.0035464151296764612

Valid Acc : 0.7054
Valid Loss : 0.003388061420992017
Model Saved!
====== 72 epoch of 150 ======

====== 100 Step of 196 ======
Train Acc : 0.7124845297029703
Train Loss : 0.003229274647310376

Valid Acc : 0.7031
Valid Loss : 0.0034248908050358295
====== 73 epoch of 150 ======

====== 100 Step of 196 ======
Train Acc : 0.7107827970297029
Train Loss : 0.003469314193353057

Valid Acc : 0.703
Valid Loss : 0.0033627867233008146
====== 74 epoch of 150 ======

====== 100 Step of 196 ======
Train Acc : 0.7130646658415841
Train Loss : 0.003089762991294265

Valid Acc : 0.702
Valid Loss : 0.0033867042511701584
====== 75 epoch of 150 ======

====== 100 Step of 196 ======
Train Acc : 0.7167388613861386
Train Loss : 0.0034384934697300196

Valid Acc : 0.7043
Valid Loss : 0.0034029188100248575
====== 76 epoch of 150 ======

====== 100 Step of 196 ======
Train Acc : 0.709583849009901
Train Loss : 0.0032925836276263

Valid Acc : 0.7009
Valid Loss : 0.0034226716961711645
====== 77 epoch of 150 ======

====== 100 Step of 196 ======
Train Acc : 0.7206837871287128
Train Loss : 0.003107665339484811

Valid Acc : 0.7057
Valid Loss : 0.0033832492772489786
Model Saved!
====== 78 epoch of 150 ======

====== 100 Step of 196 ======
Train Acc : 0.7249381188118812
Train Loss : 0.0030013115610927343

Valid Acc : 0.7111
Valid Loss : 0.0033604647032916546
Model Saved!
====== 79 epoch of 150 ======

====== 100 Step of 196 ======
Train Acc : 0.724009900990099
Train Loss : 0.0025347701739519835

Valid Acc : 0.7086
Valid Loss : 0.003374349558725953
====== 80 epoch of 150 ======

====== 100 Step of 196 ======
Train Acc : 0.7225402227722773
Train Loss : 0.0026094785425812006

Valid Acc : 0.7006
Valid Loss : 0.0034469375386834145
====== 81 epoch of 150 ======

====== 100 Step of 196 ======
Train Acc : 0.7272199876237624
Train Loss : 0.003286357270553708

Valid Acc : 0.7084
Valid Loss : 0.00336562842130661
====== 82 epoch of 150 ======

====== 100 Step of 196 ======
Train Acc : 0.7229269801980198
Train Loss : 0.003125517163425684

Valid Acc : 0.7107
Valid Loss : 0.003329091938212514
====== 83 epoch of 150 ======

====== 100 Step of 196 ======
Train Acc : 0.723855198019802
Train Loss : 0.0031485678628087044

Valid Acc : 0.7091
Valid Loss : 0.0033156867139041424
====== 84 epoch of 150 ======

====== 100 Step of 196 ======
Train Acc : 0.7249767945544554
Train Loss : 0.0030819829553365707

Valid Acc : 0.7121
Valid Loss : 0.003313946770504117
Model Saved!
====== 85 epoch of 150 ======

====== 100 Step of 196 ======
Train Acc : 0.7272586633663366
Train Loss : 0.002983984537422657

Valid Acc : 0.7124
Valid Loss : 0.003302531084045768
Model Saved!
====== 86 epoch of 150 ======

====== 100 Step of 196 ======
Train Acc : 0.7334854579207921
Train Loss : 0.0028856664430350065

Valid Acc : 0.7104
Valid Loss : 0.0033066084142774343
====== 87 epoch of 150 ======

====== 100 Step of 196 ======
Train Acc : 0.7299659653465347
Train Loss : 0.003074831794947386

Valid Acc : 0.7152
Valid Loss : 0.0033059341367334127
Model Saved!
====== 88 epoch of 150 ======

====== 100 Step of 196 ======
Train Acc : 0.7311262376237624
Train Loss : 0.002881459891796112

Valid Acc : 0.7143
Valid Loss : 0.003305557882413268
====== 89 epoch of 150 ======

====== 100 Step of 196 ======
Train Acc : 0.7342589727722773
Train Loss : 0.0030249233823269606

Valid Acc : 0.7116
Valid Loss : 0.0033614193089306355
====== 90 epoch of 150 ======

====== 100 Step of 196 ======
Train Acc : 0.7345683787128713
Train Loss : 0.0029447355773299932

Valid Acc : 0.7135
Valid Loss : 0.003277259413152933
====== 91 epoch of 150 ======

====== 100 Step of 196 ======
Train Acc : 0.7341042698019802
Train Loss : 0.0027181131299585104

Valid Acc : 0.713
Valid Loss : 0.0033008891623467207
====== 92 epoch of 150 ======

====== 100 Step of 196 ======
Train Acc : 0.7385133044554455
Train Loss : 0.002824589144438505

Valid Acc : 0.7149
Valid Loss : 0.0032808673568069935
====== 93 epoch of 150 ======

====== 100 Step of 196 ======
Train Acc : 0.7406017945544554
Train Loss : 0.00266796606592834

Valid Acc : 0.7143
Valid Loss : 0.0032784328795969486
====== 94 epoch of 150 ======

====== 100 Step of 196 ======
Train Acc : 0.7429610148514851
Train Loss : 0.0031988706905394793

Valid Acc : 0.7137
Valid Loss : 0.0032841262873262167
====== 95 epoch of 150 ======

====== 100 Step of 196 ======
Train Acc : 0.7393641707920792
Train Loss : 0.0033768771681934595

Valid Acc : 0.7109
Valid Loss : 0.0033050845377147198
====== 96 epoch of 150 ======

====== 100 Step of 196 ======
Train Acc : 0.7399056311881188
Train Loss : 0.0029944151174277067

Valid Acc : 0.7173
Valid Loss : 0.003207847476005554
Model Saved!
====== 97 epoch of 150 ======

====== 100 Step of 196 ======
Train Acc : 0.7447787747524752
Train Loss : 0.0027092245873063803

Valid Acc : 0.7152
Valid Loss : 0.0032391813583672047
====== 98 epoch of 150 ======

====== 100 Step of 196 ======
Train Acc : 0.7430770420792079
Train Loss : 0.0026884470134973526

Valid Acc : 0.7164
Valid Loss : 0.0032680255826562643
====== 99 epoch of 150 ======

====== 100 Step of 196 ======
Train Acc : 0.7460163985148515
Train Loss : 0.0027372075710445642

Valid Acc : 0.7157
Valid Loss : 0.0032482806127518415
====== 100 epoch of 150 ======

====== 100 Step of 196 ======
Train Acc : 0.7404470915841584
Train Loss : 0.00303519144654274

Valid Acc : 0.7219
Valid Loss : 0.0032132789492607117
Model Saved!
====== 101 epoch of 150 ======

====== 100 Step of 196 ======
Train Acc : 0.7541383044554455
Train Loss : 0.0027739808429032564

Valid Acc : 0.7245
Valid Loss : 0.0031601907685399055
Model Saved!
====== 102 epoch of 150 ======

====== 100 Step of 196 ======
Train Acc : 0.7523205445544554
Train Loss : 0.0026343148201704025

Valid Acc : 0.7245
Valid Loss : 0.0031646117568016052
====== 103 epoch of 150 ======

====== 100 Step of 196 ======
Train Acc : 0.7564975247524752
Train Loss : 0.00294199725612998

Valid Acc : 0.7226
Valid Loss : 0.0031809210777282715
====== 104 epoch of 150 ======

====== 100 Step of 196 ======
Train Acc : 0.7529393564356436
Train Loss : 0.0024609852116554976

Valid Acc : 0.7247
Valid Loss : 0.0031632930040359497
Model Saved!
====== 105 epoch of 150 ======

====== 100 Step of 196 ======
Train Acc : 0.7595142326732673
Train Loss : 0.0028642546385526657

Valid Acc : 0.7273
Valid Loss : 0.0031561171635985374
Model Saved!
====== 106 epoch of 150 ======

====== 100 Step of 196 ======
Train Acc : 0.758856745049505
Train Loss : 0.0025763381272554398

Valid Acc : 0.7253
Valid Loss : 0.0031580410432070494
====== 107 epoch of 150 ======

====== 100 Step of 196 ======
Train Acc : 0.7525912747524752
Train Loss : 0.0028468496166169643

Valid Acc : 0.7262
Valid Loss : 0.00316515751183033
====== 108 epoch of 150 ======

====== 100 Step of 196 ======
Train Acc : 0.7572323638613861
Train Loss : 0.002456182846799493

Valid Acc : 0.7251
Valid Loss : 0.003153792582452297
====== 109 epoch of 150 ======

====== 100 Step of 196 ======
Train Acc : 0.7537902227722773
Train Loss : 0.003335813293233514

Valid Acc : 0.7246
Valid Loss : 0.0031729626934975386
====== 110 epoch of 150 ======

====== 100 Step of 196 ======
Train Acc : 0.7603264232673267
Train Loss : 0.002417144365608692

Valid Acc : 0.7244
Valid Loss : 0.0031817173585295677
====== 111 epoch of 150 ======

====== 100 Step of 196 ======
Train Acc : 0.7547571163366337
Train Loss : 0.0024425159208476543

Valid Acc : 0.726
Valid Loss : 0.0031635186169296503
====== 112 epoch of 150 ======

====== 100 Step of 196 ======
Train Acc : 0.756768254950495
Train Loss : 0.0023578249383717775

Valid Acc : 0.7268
Valid Loss : 0.0031571979634463787
====== 113 epoch of 150 ======

====== 100 Step of 196 ======
Train Acc : 0.7564201732673267
Train Loss : 0.002798669971525669

Valid Acc : 0.7247
Valid Loss : 0.0031630583107471466
====== 114 epoch of 150 ======

====== 100 Step of 196 ======
Train Acc : 0.7549891707920792
Train Loss : 0.002865167334675789

Valid Acc : 0.726
Valid Loss : 0.003148580202832818
====== 115 epoch of 150 ======

====== 100 Step of 196 ======
Train Acc : 0.7502707301980198
Train Loss : 0.002910813083872199

Valid Acc : 0.7284
Valid Loss : 0.0031565965618938208
Model Saved!
====== 116 epoch of 150 ======

====== 100 Step of 196 ======
Train Acc : 0.7558400371287128
Train Loss : 0.002717937109991908

Valid Acc : 0.7254
Valid Loss : 0.003162203123793006
====== 117 epoch of 150 ======

====== 100 Step of 196 ======
Train Acc : 0.7585860148514851
Train Loss : 0.00271987309679389

Valid Acc : 0.7279
Valid Loss : 0.0031518819741904736
====== 118 epoch of 150 ======

====== 100 Step of 196 ======
Train Acc : 0.7576577970297029
Train Loss : 0.0029889331199228764

Valid Acc : 0.7257
Valid Loss : 0.003170923562720418
====== 119 epoch of 150 ======

====== 100 Step of 196 ======
Train Acc : 0.7568842821782178
Train Loss : 0.0027022550348192453

Valid Acc : 0.7274
Valid Loss : 0.003164907917380333
====== 120 epoch of 150 ======

====== 100 Step of 196 ======
Train Acc : 0.758856745049505
Train Loss : 0.0027997668366879225

Valid Acc : 0.7253
Valid Loss : 0.0031628634314984083
====== 121 epoch of 150 ======

====== 100 Step of 196 ======
Train Acc : 0.758121905940594
Train Loss : 0.002736463909968734

Valid Acc : 0.726
Valid Loss : 0.0031581087969243526
====== 122 epoch of 150 ======

====== 100 Step of 196 ======
Train Acc : 0.7546024133663366
Train Loss : 0.0024505918845534325

Valid Acc : 0.7251
Valid Loss : 0.003148082410916686
====== 123 epoch of 150 ======

====== 100 Step of 196 ======
Train Acc : 0.760365099009901
Train Loss : 0.002377798082306981

Valid Acc : 0.724
Valid Loss : 0.0031756600365042686
====== 124 epoch of 150 ======

====== 100 Step of 196 ======
Train Acc : 0.7559560643564357
Train Loss : 0.0027622771449387074

Valid Acc : 0.7256
Valid Loss : 0.003170343115925789
====== 125 epoch of 150 ======

====== 100 Step of 196 ======
Train Acc : 0.7594368811881188
Train Loss : 0.002902116859331727

Valid Acc : 0.7248
Valid Loss : 0.0031607975251972675
====== 126 epoch of 150 ======

====== 100 Step of 196 ======
Train Acc : 0.7570776608910891
Train Loss : 0.002831069054082036

Valid Acc : 0.7261
Valid Loss : 0.0031730677001178265
====== 127 epoch of 150 ======

====== 100 Step of 196 ======
Train Acc : 0.7588954207920792
Train Loss : 0.002571128075942397

Valid Acc : 0.7279
Valid Loss : 0.0031498095486313105
====== 128 epoch of 150 ======

====== 100 Step of 196 ======
Train Acc : 0.7615640470297029
Train Loss : 0.002227148273959756

Valid Acc : 0.727
Valid Loss : 0.0031424295157194138
====== 129 epoch of 150 ======

====== 100 Step of 196 ======
Train Acc : 0.7578125
Train Loss : 0.002267784671857953

Valid Acc : 0.7261
Valid Loss : 0.0031368897762149572
====== 130 epoch of 150 ======

====== 100 Step of 196 ======
Train Acc : 0.7587407178217822
Train Loss : 0.0026895999908447266

Valid Acc : 0.7256
Valid Loss : 0.003157856175675988
====== 131 epoch of 150 ======

====== 100 Step of 196 ======
Train Acc : 0.7632271039603961
Train Loss : 0.0026065725833177567

Valid Acc : 0.725
Valid Loss : 0.0031901102047413588
====== 132 epoch of 150 ======

====== 100 Step of 196 ======
Train Acc : 0.7625696163366337
Train Loss : 0.002554807811975479

Valid Acc : 0.726
Valid Loss : 0.0031487096566706896
====== 133 epoch of 150 ======

====== 100 Step of 196 ======
Train Acc : 0.7608678836633663
Train Loss : 0.0025588194839656353

Valid Acc : 0.7265
Valid Loss : 0.0031427929643541574
====== 134 epoch of 150 ======

====== 100 Step of 196 ======
Train Acc : 0.7574644183168316
Train Loss : 0.0028594874311238527

Valid Acc : 0.7277
Valid Loss : 0.003165990114212036
====== 135 epoch of 150 ======

====== 100 Step of 196 ======
Train Acc : 0.7584699876237624
Train Loss : 0.0026727253571152687

Valid Acc : 0.7268
Valid Loss : 0.0031409452203661203
====== 136 epoch of 150 ======

====== 100 Step of 196 ======
Train Acc : 0.7624922648514851
Train Loss : 0.0026889194268733263

Valid Acc : 0.727
Valid Loss : 0.003166756359860301
====== 137 epoch of 150 ======

====== 100 Step of 196 ======
Train Acc : 0.757503094059406
Train Loss : 0.002809470519423485

Valid Acc : 0.7269
Valid Loss : 0.003142329165711999
====== 138 epoch of 150 ======

====== 100 Step of 196 ======
Train Acc : 0.7595915841584159
Train Loss : 0.0025066256057471037

Valid Acc : 0.7256
Valid Loss : 0.0031670606695115566
====== 139 epoch of 150 ======

====== 100 Step of 196 ======
Train Acc : 0.7589340965346535
Train Loss : 0.0025550471618771553

Valid Acc : 0.7257
Valid Loss : 0.0031565178651362658
====== 140 epoch of 150 ======

====== 100 Step of 196 ======
Train Acc : 0.7589340965346535
Train Loss : 0.0025933559518307447

Valid Acc : 0.7247
Valid Loss : 0.0031608203426003456
====== 141 epoch of 150 ======

====== 100 Step of 196 ======
Train Acc : 0.7641939975247525
Train Loss : 0.00253960769623518

Valid Acc : 0.725
Valid Loss : 0.0031659319065511227
====== 142 epoch of 150 ======

====== 100 Step of 196 ======
Train Acc : 0.7583152846534653
Train Loss : 0.002748162252828479

Valid Acc : 0.726
Valid Loss : 0.0031408302020281553
====== 143 epoch of 150 ======

====== 100 Step of 196 ======
Train Acc : 0.7609065594059405
Train Loss : 0.0026085246354341507

Valid Acc : 0.7293
Valid Loss : 0.0031520919874310493
Model Saved!
====== 144 epoch of 150 ======

====== 100 Step of 196 ======
Train Acc : 0.7601330445544554
Train Loss : 0.00271868915297091

Valid Acc : 0.7245
Valid Loss : 0.003197884652763605
====== 145 epoch of 150 ======

====== 100 Step of 196 ======
Train Acc : 0.7621055074257426
Train Loss : 0.0024672960862517357

Valid Acc : 0.7243
Valid Loss : 0.003156066872179508
====== 146 epoch of 150 ======

====== 100 Step of 196 ======
Train Acc : 0.7604424504950495
Train Loss : 0.002576566534116864

Valid Acc : 0.7289
Valid Loss : 0.0031264794524759054
====== 147 epoch of 150 ======

====== 100 Step of 196 ======
Train Acc : 0.7605584777227723
Train Loss : 0.0032039310317486525

Valid Acc : 0.7247
Valid Loss : 0.003145923838019371
====== 148 epoch of 150 ======

====== 100 Step of 196 ======
Train Acc : 0.7599396658415841
Train Loss : 0.0021059438586235046

Valid Acc : 0.7272
Valid Loss : 0.003142660716548562
====== 149 epoch of 150 ======

====== 100 Step of 196 ======
Train Acc : 0.7610225866336634
Train Loss : 0.0025749944616109133

Valid Acc : 0.7272
Valid Loss : 0.0031427282374352217
====== 150 epoch of 150 ======

====== 100 Step of 196 ======
Train Acc : 0.763381806930693
Train Loss : 0.0024640958290547132

Valid Acc : 0.7278
Valid Loss : 0.003148474497720599
