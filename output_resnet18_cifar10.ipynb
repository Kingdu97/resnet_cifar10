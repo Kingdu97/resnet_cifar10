====== 1 epoch of 150 ======

====== 100 Step of 196 ======
Train Acc : 0.19960550742574257
Train Loss : 0.012727633118629456

Valid Acc : 0.3313
Valid Loss : 0.00914012547582388
Model Saved!
====== 2 epoch of 150 ======

====== 100 Step of 196 ======
Train Acc : 0.3543084777227723
Train Loss : 0.0066480389796197414

Valid Acc : 0.4344
Valid Loss : 0.006906972266733646
Model Saved!
====== 3 epoch of 150 ======

====== 100 Step of 196 ======
Train Acc : 0.41947710396039606
Train Loss : 0.006071888841688633

Valid Acc : 0.4579
Valid Loss : 0.006952621974050999
Model Saved!
====== 4 epoch of 150 ======

====== 100 Step of 196 ======
Train Acc : 0.46724164603960394
Train Loss : 0.005337103269994259

Valid Acc : 0.517
Valid Loss : 0.0053632003255188465
Model Saved!
====== 5 epoch of 150 ======

====== 100 Step of 196 ======
Train Acc : 0.5032100866336634
Train Loss : 0.005317824427038431

Valid Acc : 0.4777
Valid Loss : 0.0067322286777198315
====== 6 epoch of 150 ======

====== 100 Step of 196 ======
Train Acc : 0.5335318688118812
Train Loss : 0.005407154094427824

Valid Acc : 0.557
Valid Loss : 0.005077729467302561
Model Saved!
====== 7 epoch of 150 ======

====== 100 Step of 196 ======
Train Acc : 0.5703898514851485
Train Loss : 0.0048722815699875355

Valid Acc : 0.4444
Valid Loss : 0.006727989763021469
====== 8 epoch of 150 ======

====== 100 Step of 196 ======
Train Acc : 0.6016011757425742
Train Loss : 0.004209444858133793

Valid Acc : 0.611
Valid Loss : 0.004370291717350483
Model Saved!
====== 9 epoch of 150 ======

====== 100 Step of 196 ======
Train Acc : 0.622292698019802
Train Loss : 0.0038091172464191914

Valid Acc : 0.5967
Valid Loss : 0.004618545062839985
====== 10 epoch of 150 ======

====== 100 Step of 196 ======
Train Acc : 0.6428295173267327
Train Loss : 0.003913748078048229

Valid Acc : 0.4783
Valid Loss : 0.006712235976010561
====== 11 epoch of 150 ======

====== 100 Step of 196 ======
Train Acc : 0.6524984529702971
Train Loss : 0.0035778454039245844

Valid Acc : 0.626
Valid Loss : 0.004298773128539324
Model Saved!
====== 12 epoch of 150 ======

====== 100 Step of 196 ======
Train Acc : 0.6753944925742574
Train Loss : 0.003751208772882819

Valid Acc : 0.5085
Valid Loss : 0.005930198356509209
====== 13 epoch of 150 ======

====== 100 Step of 196 ======
Train Acc : 0.6648746905940595
Train Loss : 0.003231791080906987

Valid Acc : 0.452
Valid Loss : 0.007171856705099344
====== 14 epoch of 150 ======

====== 100 Step of 196 ======
Train Acc : 0.6774829826732673
Train Loss : 0.002600975800305605

Valid Acc : 0.6394
Valid Loss : 0.0042640105821192265
Model Saved!
====== 15 epoch of 150 ======

====== 100 Step of 196 ======
Train Acc : 0.7045560024752475
Train Loss : 0.003034966066479683

Valid Acc : 0.6759
Valid Loss : 0.003717468585819006
Model Saved!
====== 16 epoch of 150 ======

====== 100 Step of 196 ======
Train Acc : 0.7124458539603961
Train Loss : 0.002798785688355565

Valid Acc : 0.6859
Valid Loss : 0.003612007014453411
Model Saved!
====== 17 epoch of 150 ======

====== 100 Step of 196 ======
Train Acc : 0.7298886138613861
Train Loss : 0.002599704544991255

Valid Acc : 0.6653
Valid Loss : 0.004022115375846624
====== 18 epoch of 150 ======

====== 100 Step of 196 ======
Train Acc : 0.7295405321782178
Train Loss : 0.0025257549714297056

Valid Acc : 0.6494
Valid Loss : 0.004354651086032391
====== 19 epoch of 150 ======

====== 100 Step of 196 ======
Train Acc : 0.7373530321782178
Train Loss : 0.003050353145226836

Valid Acc : 0.723
Valid Loss : 0.0032164829317480326
Model Saved!
====== 20 epoch of 150 ======

====== 100 Step of 196 ======
Train Acc : 0.7494585396039604
Train Loss : 0.0026326393708586693

Valid Acc : 0.6944
Valid Loss : 0.0036099227145314217
====== 21 epoch of 150 ======

====== 100 Step of 196 ======
Train Acc : 0.7539836014851485
Train Loss : 0.003478072816506028

Valid Acc : 0.7008
Valid Loss : 0.003588920459151268
====== 22 epoch of 150 ======

====== 100 Step of 196 ======
Train Acc : 0.7626856435643564
Train Loss : 0.0031966394744813442

Valid Acc : 0.697
Valid Loss : 0.0038127440493553877
====== 23 epoch of 150 ======

====== 100 Step of 196 ======
Train Acc : 0.7665145420792079
Train Loss : 0.002666822401806712

Valid Acc : 0.7473
Valid Loss : 0.0029229854699224234
Model Saved!
====== 24 epoch of 150 ======

====== 100 Step of 196 ======
Train Acc : 0.7742883663366337
Train Loss : 0.002666985848918557

Valid Acc : 0.6645
Valid Loss : 0.004095624666661024
====== 25 epoch of 150 ======

====== 100 Step of 196 ======
Train Acc : 0.7804764851485149
Train Loss : 0.0024115138221532106

Valid Acc : 0.7139
Valid Loss : 0.0035840217024087906
====== 26 epoch of 150 ======

====== 100 Step of 196 ======
Train Acc : 0.7859684405940595
Train Loss : 0.0021046840120106936

Valid Acc : 0.7054
Valid Loss : 0.003616091562435031
====== 27 epoch of 150 ======

====== 100 Step of 196 ======
Train Acc : 0.7897199876237624
Train Loss : 0.002273792866617441

Valid Acc : 0.7307
Valid Loss : 0.00313177308999002
====== 28 epoch of 150 ======

====== 100 Step of 196 ======
Train Acc : 0.795521349009901
Train Loss : 0.00226933928206563

Valid Acc : 0.6648
Valid Loss : 0.004191359039396048
====== 29 epoch of 150 ======

====== 100 Step of 196 ======
Train Acc : 0.7975324876237624
Train Loss : 0.002079647034406662

Valid Acc : 0.7537
Valid Loss : 0.002889755181968212
Model Saved!
====== 30 epoch of 150 ======

====== 100 Step of 196 ======
Train Acc : 0.8048808787128713
Train Loss : 0.002252982696518302

Valid Acc : 0.7716
Valid Loss : 0.0026759521570056677
Model Saved!
====== 31 epoch of 150 ======

====== 100 Step of 196 ======
Train Acc : 0.8057704207920792
Train Loss : 0.0021862711291760206

Valid Acc : 0.7605
Valid Loss : 0.0028290110640227795
====== 32 epoch of 150 ======

====== 100 Step of 196 ======
Train Acc : 0.8105275371287128
Train Loss : 0.0020968180615454912

Valid Acc : 0.7563
Valid Loss : 0.002822829643264413
====== 33 epoch of 150 ======

====== 100 Step of 196 ======
Train Acc : 0.819268254950495
Train Loss : 0.002207124140113592

Valid Acc : 0.7599
Valid Loss : 0.002845664042979479
====== 34 epoch of 150 ======

====== 100 Step of 196 ======
Train Acc : 0.8142790841584159
Train Loss : 0.002174343913793564

Valid Acc : 0.756
Valid Loss : 0.0028263756539672613
====== 35 epoch of 150 ======

====== 100 Step of 196 ======
Train Acc : 0.8234839108910891
Train Loss : 0.002414613263681531

Valid Acc : 0.7885
Valid Loss : 0.0025264937430620193
Model Saved!
====== 36 epoch of 150 ======

====== 100 Step of 196 ======
Train Acc : 0.8274288366336634
Train Loss : 0.0017312206327915192

Valid Acc : 0.7725
Valid Loss : 0.0026496925856918097
====== 37 epoch of 150 ======

====== 100 Step of 196 ======
Train Acc : 0.8319925742574258
Train Loss : 0.0019109399290755391

Valid Acc : 0.7851
Valid Loss : 0.0024708660785108805
====== 38 epoch of 150 ======

====== 100 Step of 196 ======
Train Acc : 0.8302521658415841
Train Loss : 0.001964797731488943

Valid Acc : 0.7335
Valid Loss : 0.003189653856679797
====== 39 epoch of 150 ======

====== 100 Step of 196 ======
Train Acc : 0.8336556311881188
Train Loss : 0.001930809929035604

Valid Acc : 0.763
Valid Loss : 0.0028579896315932274
====== 40 epoch of 150 ======

====== 100 Step of 196 ======
Train Acc : 0.8314124381188119
Train Loss : 0.0018171366536989808

Valid Acc : 0.7244
Valid Loss : 0.003436060156673193
====== 41 epoch of 150 ======

====== 100 Step of 196 ======
Train Acc : 0.8360535272277227
Train Loss : 0.0019216202199459076

Valid Acc : 0.7817
Valid Loss : 0.0025751765351742506
====== 42 epoch of 150 ======

====== 100 Step of 196 ======
Train Acc : 0.8419322400990099
Train Loss : 0.0018696942133828998

Valid Acc : 0.7592
Valid Loss : 0.0029655052348971367
====== 43 epoch of 150 ======

====== 100 Step of 196 ======
Train Acc : 0.8433245668316832
Train Loss : 0.0018839037511497736

Valid Acc : 0.7689
Valid Loss : 0.0028616497293114662
====== 44 epoch of 150 ======

====== 100 Step of 196 ======
Train Acc : 0.846457301980198
Train Loss : 0.0016091401921585202

Valid Acc : 0.7766
Valid Loss : 0.002723325276747346
====== 45 epoch of 150 ======

====== 100 Step of 196 ======
Train Acc : 0.8465346534653465
Train Loss : 0.0015660888748243451

Valid Acc : 0.7933
Valid Loss : 0.002500898437574506
Model Saved!
====== 46 epoch of 150 ======

====== 100 Step of 196 ======
Train Acc : 0.850518254950495
Train Loss : 0.0015808577882125974

Valid Acc : 0.7835
Valid Loss : 0.002742973156273365
====== 47 epoch of 150 ======

====== 100 Step of 196 ======
Train Acc : 0.848855198019802
Train Loss : 0.0020894422195851803

Valid Acc : 0.7805
Valid Loss : 0.0027342750690877438
====== 48 epoch of 150 ======

====== 100 Step of 196 ======
Train Acc : 0.8526454207920792
Train Loss : 0.00171535590197891

Valid Acc : 0.775
Valid Loss : 0.0027635209262371063
====== 49 epoch of 150 ======

====== 100 Step of 196 ======
Train Acc : 0.8564743193069307
Train Loss : 0.0016607475699856877

Valid Acc : 0.7629
Valid Loss : 0.002851310186088085
====== 50 epoch of 150 ======

====== 100 Step of 196 ======
Train Acc : 0.8582147277227723
Train Loss : 0.0015169652178883553

Valid Acc : 0.7558
Valid Loss : 0.002968830056488514
====== 51 epoch of 150 ======

====== 100 Step of 196 ======
Train Acc : 0.8828898514851485
Train Loss : 0.0014249732485041022

Valid Acc : 0.8315
Valid Loss : 0.002066781045868993
Model Saved!
====== 52 epoch of 150 ======

====== 100 Step of 196 ======
Train Acc : 0.9040841584158416
Train Loss : 0.0011494895443320274

Valid Acc : 0.8301
Valid Loss : 0.0021471974905580282
====== 53 epoch of 150 ======

====== 100 Step of 196 ======
Train Acc : 0.9033493193069307
Train Loss : 0.0009923672769218683

Valid Acc : 0.8345
Valid Loss : 0.0020952634513378143
Model Saved!
====== 54 epoch of 150 ======

====== 100 Step of 196 ======
Train Acc : 0.9127862004950495
Train Loss : 0.0011667398503050208

Valid Acc : 0.8342
Valid Loss : 0.0021044048480689526
====== 55 epoch of 150 ======

====== 100 Step of 196 ======
Train Acc : 0.9114325495049505
Train Loss : 0.0009748136508278549

Valid Acc : 0.8376
Valid Loss : 0.002133389934897423
Model Saved!
====== 56 epoch of 150 ======

====== 100 Step of 196 ======
Train Acc : 0.9161123143564357
Train Loss : 0.0009809944313019514

Valid Acc : 0.8397
Valid Loss : 0.0021075918339192867
Model Saved!
====== 57 epoch of 150 ======

====== 100 Step of 196 ======
Train Acc : 0.9171952351485149
Train Loss : 0.0007286060135811567

Valid Acc : 0.8415
Valid Loss : 0.00215293001383543
Model Saved!
====== 58 epoch of 150 ======

====== 100 Step of 196 ======
Train Acc : 0.9187422648514851
Train Loss : 0.000929676927626133

Valid Acc : 0.8399
Valid Loss : 0.002170434221625328
====== 59 epoch of 150 ======

====== 100 Step of 196 ======
Train Acc : 0.9200572400990099
Train Loss : 0.0008467842708341777

Valid Acc : 0.8387
Valid Loss : 0.0021929363720119
====== 60 epoch of 150 ======

====== 100 Step of 196 ======
Train Acc : 0.9231512995049505
Train Loss : 0.0007391030085273087

Valid Acc : 0.8402
Valid Loss : 0.0021923664025962353
====== 61 epoch of 150 ======

====== 100 Step of 196 ======
Train Acc : 0.9252784653465347
Train Loss : 0.000889014161657542

Valid Acc : 0.8383
Valid Loss : 0.002171841450035572
====== 62 epoch of 150 ======

====== 100 Step of 196 ======
Train Acc : 0.9275603341584159
Train Loss : 0.0009380861301906407

Valid Acc : 0.8384
Valid Loss : 0.002206468256190419
====== 63 epoch of 150 ======

====== 100 Step of 196 ======
Train Acc : 0.9288753094059405
Train Loss : 0.0006553911953233182

Valid Acc : 0.8407
Valid Loss : 0.002214365638792515
====== 64 epoch of 150 ======

====== 100 Step of 196 ======
Train Acc : 0.9298422029702971
Train Loss : 0.0007533025927841663

Valid Acc : 0.8375
Valid Loss : 0.002248423872515559
====== 65 epoch of 150 ======

====== 100 Step of 196 ======
Train Acc : 0.9298035272277227
Train Loss : 0.000658527365885675

Valid Acc : 0.8414
Valid Loss : 0.0022302742581814528
====== 66 epoch of 150 ======

====== 100 Step of 196 ======
Train Acc : 0.9318533415841584
Train Loss : 0.0008628991199657321

Valid Acc : 0.8393
Valid Loss : 0.0022225789725780487
====== 67 epoch of 150 ======

====== 100 Step of 196 ======
Train Acc : 0.9298808787128713
Train Loss : 0.0006846208707429469

Valid Acc : 0.8406
Valid Loss : 0.0022631960455328226
====== 68 epoch of 150 ======

====== 100 Step of 196 ======
Train Acc : 0.9328589108910891
Train Loss : 0.0010362026514485478

Valid Acc : 0.8388
Valid Loss : 0.0022532769944518805
====== 69 epoch of 150 ======

====== 100 Step of 196 ======
Train Acc : 0.9338644801980198
Train Loss : 0.0007637600065208972

Valid Acc : 0.8408
Valid Loss : 0.002291799522936344
====== 70 epoch of 150 ======

====== 100 Step of 196 ======
Train Acc : 0.9395884900990099
Train Loss : 0.0007324577309191227

Valid Acc : 0.8357
Valid Loss : 0.0023719060700386763
====== 71 epoch of 150 ======

====== 100 Step of 196 ======
Train Acc : 0.934637995049505
Train Loss : 0.0006734395283274353

Valid Acc : 0.836
Valid Loss : 0.0023662529420107603
====== 72 epoch of 150 ======

====== 100 Step of 196 ======
Train Acc : 0.9383895420792079
Train Loss : 0.000696858623996377

Valid Acc : 0.8386
Valid Loss : 0.0023393193259835243
====== 73 epoch of 150 ======

====== 100 Step of 196 ======
Train Acc : 0.9401686262376238
Train Loss : 0.0006066205678507686

Valid Acc : 0.8349
Valid Loss : 0.0023831797298043966
====== 74 epoch of 150 ======

====== 100 Step of 196 ======
Train Acc : 0.9402846534653465
Train Loss : 0.0006388026522472501

Valid Acc : 0.8301
Valid Loss : 0.002537004416808486
====== 75 epoch of 150 ======

====== 100 Step of 196 ======
Train Acc : 0.9419863861386139
Train Loss : 0.0007466573733836412

Valid Acc : 0.8337
Valid Loss : 0.0024791841860860586
====== 76 epoch of 150 ======

====== 100 Step of 196 ======
Train Acc : 0.9439975247524752
Train Loss : 0.0007463046349585056

Valid Acc : 0.8354
Valid Loss : 0.002480501774698496
====== 77 epoch of 150 ======

====== 100 Step of 196 ======
Train Acc : 0.9417543316831684
Train Loss : 0.0007234701188281178

Valid Acc : 0.8344
Valid Loss : 0.0024535527918487787
====== 78 epoch of 150 ======

====== 100 Step of 196 ======
Train Acc : 0.9443456064356436
Train Loss : 0.0006987429806031287

Valid Acc : 0.8336
Valid Loss : 0.002457889961078763
====== 79 epoch of 150 ======

====== 100 Step of 196 ======
Train Acc : 0.9470529084158416
Train Loss : 0.0006418813136406243

Valid Acc : 0.8378
Valid Loss : 0.0024841472040861845
====== 80 epoch of 150 ======

====== 100 Step of 196 ======
Train Acc : 0.9467821782178217
Train Loss : 0.0006257916102185845

Valid Acc : 0.8348
Valid Loss : 0.0024818838573992252
====== 81 epoch of 150 ======

====== 100 Step of 196 ======
Train Acc : 0.9458152846534653
Train Loss : 0.000551038421690464

Valid Acc : 0.8342
Valid Loss : 0.0025273964274674654
====== 82 epoch of 150 ======

====== 100 Step of 196 ======
Train Acc : 0.9465887995049505
Train Loss : 0.0007671806961297989

Valid Acc : 0.8386
Valid Loss : 0.0025448522064834833
====== 83 epoch of 150 ======

====== 100 Step of 196 ======
Train Acc : 0.9475170173267327
Train Loss : 0.0008138993289321661

Valid Acc : 0.8286
Valid Loss : 0.002716762013733387
====== 84 epoch of 150 ======

====== 100 Step of 196 ======
Train Acc : 0.9488706683168316
Train Loss : 0.0006155881565064192

Valid Acc : 0.8357
Valid Loss : 0.002632400020956993
====== 85 epoch of 150 ======

====== 100 Step of 196 ======
Train Acc : 0.9504563737623762
Train Loss : 0.0005359994829632342

Valid Acc : 0.8354
Valid Loss : 0.002648723078891635
====== 86 epoch of 150 ======

====== 100 Step of 196 ======
Train Acc : 0.9482518564356436
Train Loss : 0.0004698190896306187

Valid Acc : 0.8342
Valid Loss : 0.002613012446090579
====== 87 epoch of 150 ======

====== 100 Step of 196 ======
Train Acc : 0.9534730816831684
Train Loss : 0.0007892173598520458

Valid Acc : 0.8327
Valid Loss : 0.0027099980507045984
====== 88 epoch of 150 ======

====== 100 Step of 196 ======
Train Acc : 0.951461943069307
Train Loss : 0.0005743908113799989

Valid Acc : 0.8296
Valid Loss : 0.002761079231277108
====== 89 epoch of 150 ======

====== 100 Step of 196 ======
Train Acc : 0.9516553217821783
Train Loss : 0.0006345007568597794

Valid Acc : 0.8387
Valid Loss : 0.0026431861333549023
====== 90 epoch of 150 ======

====== 100 Step of 196 ======
Train Acc : 0.9539758663366337
Train Loss : 0.0005297385505400598

Valid Acc : 0.8309
Valid Loss : 0.0027454523369669914
====== 91 epoch of 150 ======

====== 100 Step of 196 ======
Train Acc : 0.9546720297029703
Train Loss : 0.0005974561790935695

Valid Acc : 0.8294
Valid Loss : 0.0027891627978533506
====== 92 epoch of 150 ======

====== 100 Step of 196 ======
Train Acc : 0.9540532178217822
Train Loss : 0.00039128269418142736

Valid Acc : 0.8316
Valid Loss : 0.002774787601083517
====== 93 epoch of 150 ======

====== 100 Step of 196 ======
Train Acc : 0.9557549504950495
Train Loss : 0.0003265154082328081

Valid Acc : 0.8364
Valid Loss : 0.002722949255257845
====== 94 epoch of 150 ======

====== 100 Step of 196 ======
Train Acc : 0.9537438118811881
Train Loss : 0.0003912540269084275

Valid Acc : 0.8355
Valid Loss : 0.002785753458738327
====== 95 epoch of 150 ======

====== 100 Step of 196 ======
Train Acc : 0.9534730816831684
Train Loss : 0.0004977864446118474

Valid Acc : 0.834
Valid Loss : 0.002793716499581933
====== 96 epoch of 150 ======

====== 100 Step of 196 ======
Train Acc : 0.9581915222772277
Train Loss : 0.00035576842492446303

Valid Acc : 0.8354
Valid Loss : 0.002823668997734785
====== 97 epoch of 150 ======

====== 100 Step of 196 ======
Train Acc : 0.9587329826732673
Train Loss : 0.00045453928760252893

Valid Acc : 0.8337
Valid Loss : 0.002810032106935978
====== 98 epoch of 150 ======

====== 100 Step of 196 ======
Train Acc : 0.9576500618811881
Train Loss : 0.0004333557444624603

Valid Acc : 0.8283
Valid Loss : 0.002938569290563464
====== 99 epoch of 150 ======

====== 100 Step of 196 ======
Train Acc : 0.9588876856435643
Train Loss : 0.0003657557535916567

Valid Acc : 0.8253
Valid Loss : 0.003003246383741498
====== 100 epoch of 150 ======

====== 100 Step of 196 ======
Train Acc : 0.9618270420792079
Train Loss : 0.000524818548001349

Valid Acc : 0.8359
Valid Loss : 0.0028066192753612995
====== 101 epoch of 150 ======

====== 100 Step of 196 ======
Train Acc : 0.963490099009901
Train Loss : 0.00038691447116434574

Valid Acc : 0.8377
Valid Loss : 0.0027475832030177116
====== 102 epoch of 150 ======

====== 100 Step of 196 ======
Train Acc : 0.9645730198019802
Train Loss : 0.0004874067089986056

Valid Acc : 0.8401
Valid Loss : 0.0027516870759427547
====== 103 epoch of 150 ======

====== 100 Step of 196 ======
Train Acc : 0.9686339727722773
Train Loss : 0.0004187481536064297

Valid Acc : 0.8388
Valid Loss : 0.002764112316071987
====== 104 epoch of 150 ======

====== 100 Step of 196 ======
Train Acc : 0.9670482673267327
Train Loss : 0.0004193603526800871

Valid Acc : 0.8422
Valid Loss : 0.00275627919472754
Model Saved!
====== 105 epoch of 150 ======

====== 100 Step of 196 ======
Train Acc : 0.9691754331683168
Train Loss : 0.0002231952821603045

Valid Acc : 0.8396
Valid Loss : 0.0027727356646209955
====== 106 epoch of 150 ======

====== 100 Step of 196 ======
Train Acc : 0.9693301361386139
Train Loss : 0.0003715881030075252

Valid Acc : 0.8403
Valid Loss : 0.002804962219670415
====== 107 epoch of 150 ======

====== 100 Step of 196 ======
Train Acc : 0.9682085396039604
Train Loss : 0.00035387236857786775

Valid Acc : 0.8388
Valid Loss : 0.0028325947932899
====== 108 epoch of 150 ======

====== 100 Step of 196 ======
Train Acc : 0.9696395420792079
Train Loss : 0.00030734005849808455

Valid Acc : 0.8389
Valid Loss : 0.0028344120364636183
====== 109 epoch of 150 ======

====== 100 Step of 196 ======
Train Acc : 0.9708384900990099
Train Loss : 0.00024749262956902385

Valid Acc : 0.8408
Valid Loss : 0.002844438888132572
====== 110 epoch of 150 ======

====== 100 Step of 196 ======
Train Acc : 0.9669709158415841
Train Loss : 0.0003713020996656269

Valid Acc : 0.8389
Valid Loss : 0.0028459150344133377
====== 111 epoch of 150 ======

====== 100 Step of 196 ======
Train Acc : 0.9704904084158416
Train Loss : 0.00026751842233352363

Valid Acc : 0.84
Valid Loss : 0.0028506063390523195
====== 112 epoch of 150 ======

====== 100 Step of 196 ======
Train Acc : 0.9706064356435643
Train Loss : 0.0002159138093702495

Valid Acc : 0.8382
Valid Loss : 0.00286400830373168
====== 113 epoch of 150 ======

====== 100 Step of 196 ======
Train Acc : 0.971457301980198
Train Loss : 0.0004758578143082559

Valid Acc : 0.8397
Valid Loss : 0.0028716502711176872
====== 114 epoch of 150 ======

====== 100 Step of 196 ======
Train Acc : 0.9716893564356436
Train Loss : 0.00026311763213016093

Valid Acc : 0.8394
Valid Loss : 0.0028834636323153973
====== 115 epoch of 150 ======

====== 100 Step of 196 ======
Train Acc : 0.9721921410891089
Train Loss : 0.00023035809863358736

Valid Acc : 0.8406
Valid Loss : 0.002880650572478771
====== 116 epoch of 150 ======

====== 100 Step of 196 ======
Train Acc : 0.9720374381188119
Train Loss : 0.0002742444339673966

Valid Acc : 0.8386
Valid Loss : 0.0029025208204984665
====== 117 epoch of 150 ======

====== 100 Step of 196 ======
Train Acc : 0.9719600866336634
Train Loss : 0.0003681970702018589

Valid Acc : 0.8408
Valid Loss : 0.002901025116443634
====== 118 epoch of 150 ======

====== 100 Step of 196 ======
Train Acc : 0.9711092202970297
Train Loss : 0.00039940307033248246

Valid Acc : 0.8405
Valid Loss : 0.002920336788520217
====== 119 epoch of 150 ======

====== 100 Step of 196 ======
Train Acc : 0.9727336014851485
Train Loss : 0.0005137305706739426

Valid Acc : 0.8411
Valid Loss : 0.002925144275650382
====== 120 epoch of 150 ======

====== 100 Step of 196 ======
Train Acc : 0.9718053836633663
Train Loss : 0.0005020569078624249

Valid Acc : 0.8418
Valid Loss : 0.002926768735051155
====== 121 epoch of 150 ======

====== 100 Step of 196 ======
Train Acc : 0.973700495049505
Train Loss : 0.0003716393548529595

Valid Acc : 0.8406
Valid Loss : 0.0029104105196893215
====== 122 epoch of 150 ======

====== 100 Step of 196 ======
Train Acc : 0.9724628712871287
Train Loss : 0.0003892733948305249

Valid Acc : 0.8398
Valid Loss : 0.0029434445314109325
====== 123 epoch of 150 ======

====== 100 Step of 196 ======
Train Acc : 0.975363551980198
Train Loss : 0.000344169297022745

Valid Acc : 0.8415
Valid Loss : 0.002947038970887661
====== 124 epoch of 150 ======

====== 100 Step of 196 ======
Train Acc : 0.9725402227722773
Train Loss : 0.0004271958605386317

Valid Acc : 0.8404
Valid Loss : 0.0029349527321755886
====== 125 epoch of 150 ======

====== 100 Step of 196 ======
Train Acc : 0.9740872524752475
Train Loss : 0.00015704451652709395

Valid Acc : 0.8407
Valid Loss : 0.0029787980020046234
====== 126 epoch of 150 ======

====== 100 Step of 196 ======
Train Acc : 0.973855198019802
Train Loss : 0.00033292401349171996

Valid Acc : 0.8411
Valid Loss : 0.0030042999424040318
====== 127 epoch of 150 ======

====== 100 Step of 196 ======
Train Acc : 0.9746287128712872
Train Loss : 0.0002087471802951768

Valid Acc : 0.8409
Valid Loss : 0.0030026244930922985
====== 128 epoch of 150 ======

====== 100 Step of 196 ======
Train Acc : 0.974009900990099
Train Loss : 0.0004083261883351952

Valid Acc : 0.8405
Valid Loss : 0.0029755202122032642
====== 129 epoch of 150 ======

====== 100 Step of 196 ======
Train Acc : 0.9748220915841584
Train Loss : 0.00030882295686751604

Valid Acc : 0.8404
Valid Loss : 0.002988561289384961
====== 130 epoch of 150 ======

====== 100 Step of 196 ======
Train Acc : 0.9744740099009901
Train Loss : 0.00032639657729305327

Valid Acc : 0.8391
Valid Loss : 0.0029881673399358988
====== 131 epoch of 150 ======

====== 100 Step of 196 ======
Train Acc : 0.9750154702970297
Train Loss : 0.00038663463783450425

Valid Acc : 0.8406
Valid Loss : 0.0030051860958337784
====== 132 epoch of 150 ======

====== 100 Step of 196 ======
Train Acc : 0.9735457920792079
Train Loss : 0.00019246137526351959

Valid Acc : 0.8392
Valid Loss : 0.0030312712769955397
====== 133 epoch of 150 ======

====== 100 Step of 196 ======
Train Acc : 0.9760210396039604
Train Loss : 0.00016334372048731893

Valid Acc : 0.8381
Valid Loss : 0.003039640374481678
====== 134 epoch of 150 ======

====== 100 Step of 196 ======
Train Acc : 0.9762144183168316
Train Loss : 0.00037397100823000073

Valid Acc : 0.8393
Valid Loss : 0.0030308845452964306
====== 135 epoch of 150 ======

====== 100 Step of 196 ======
Train Acc : 0.9756729579207921
Train Loss : 0.00032878757338039577

Valid Acc : 0.8407
Valid Loss : 0.0030271487776190042
====== 136 epoch of 150 ======

====== 100 Step of 196 ======
Train Acc : 0.9750928217821783
Train Loss : 0.0002702730125747621

Valid Acc : 0.8402
Valid Loss : 0.003046751022338867
====== 137 epoch of 150 ======

====== 100 Step of 196 ======
Train Acc : 0.973700495049505
Train Loss : 0.00025002137408591807

Valid Acc : 0.8396
Valid Loss : 0.003036799840629101
====== 138 epoch of 150 ======

====== 100 Step of 196 ======
Train Acc : 0.9759050123762376
Train Loss : 0.000249938340857625

Valid Acc : 0.8393
Valid Loss : 0.003052014159038663
====== 139 epoch of 150 ======

====== 100 Step of 196 ======
Train Acc : 0.9749381188118812
Train Loss : 0.00021509395446628332

Valid Acc : 0.8399
Valid Loss : 0.0030361455865204334
====== 140 epoch of 150 ======

====== 100 Step of 196 ======
Train Acc : 0.9774133663366337
Train Loss : 0.00021427129104267806

Valid Acc : 0.8385
Valid Loss : 0.0030720490030944347
====== 141 epoch of 150 ======

====== 100 Step of 196 ======
Train Acc : 0.9766785272277227
Train Loss : 0.00025493145221844316

Valid Acc : 0.8387
Valid Loss : 0.0030819918029010296
====== 142 epoch of 150 ======

====== 100 Step of 196 ======
Train Acc : 0.9759436881188119
Train Loss : 0.00027836981462314725

Valid Acc : 0.8389
Valid Loss : 0.0031099156476557255
====== 143 epoch of 150 ======

====== 100 Step of 196 ======
Train Acc : 0.9749767945544554
Train Loss : 0.0003465232439339161

Valid Acc : 0.8407
Valid Loss : 0.0030698198825120926
====== 144 epoch of 150 ======

====== 100 Step of 196 ======
Train Acc : 0.9776840965346535
Train Loss : 0.00016543535457458347

Valid Acc : 0.8397
Valid Loss : 0.0030655178707093
====== 145 epoch of 150 ======

====== 100 Step of 196 ======
Train Acc : 0.9763304455445545
Train Loss : 0.00016479715122841299

Valid Acc : 0.8398
Valid Loss : 0.0030747263226658106
====== 146 epoch of 150 ======

====== 100 Step of 196 ======
Train Acc : 0.9756342821782178
Train Loss : 0.00027266674442216754

Valid Acc : 0.8392
Valid Loss : 0.0031069940887391567
====== 147 epoch of 150 ======

====== 100 Step of 196 ======
Train Acc : 0.9768332301980198
Train Loss : 0.00023378255718853325

Valid Acc : 0.8389
Valid Loss : 0.0030804513953626156
====== 148 epoch of 150 ======

====== 100 Step of 196 ======
Train Acc : 0.9764851485148515
Train Loss : 0.000269753101747483

Valid Acc : 0.8387
Valid Loss : 0.003102402901276946
====== 149 epoch of 150 ======

====== 100 Step of 196 ======
Train Acc : 0.9769492574257426
Train Loss : 0.00029987204470671713

Valid Acc : 0.8381
Valid Loss : 0.0031169303692877293
====== 150 epoch of 150 ======

====== 100 Step of 196 ======
Train Acc : 0.978225556930693
Train Loss : 0.00034508469980210066

Valid Acc : 0.8395
Valid Loss : 0.003120634937658906
